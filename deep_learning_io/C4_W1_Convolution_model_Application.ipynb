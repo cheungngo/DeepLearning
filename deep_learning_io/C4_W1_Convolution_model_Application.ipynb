{
 "cells": [
  {
   "cell_type": "markdown",
   "metadata": {},
   "source": [
    "# Convolutional Neural Networks: Application\n",
    "\n",
    "Welcome to Course 4's second assignment! In this notebook, you will:\n",
    "\n",
    "- Create a mood classifer using the TF Keras Sequential API\n",
    "- Build a ConvNet to identify sign language digits using the TF Keras Functional API\n",
    "\n",
    "**After this assignment you will be able to:**\n",
    "\n",
    "- Build and train a ConvNet in TensorFlow for a __binary__ classification problem\n",
    "- Build and train a ConvNet in TensorFlow for a __multiclass__ classification problem\n",
    "- Explain different use cases for the Sequential and Functional APIs\n",
    "\n",
    "To complete this assignment, you should already be familiar with TensorFlow. If you are not, please refer back to the **TensorFlow Tutorial** of the third week of Course 2 (\"**Improving deep neural networks**\")."
   ]
  },
  {
   "cell_type": "markdown",
   "metadata": {},
   "source": [
    "## Table of Contents\n",
    "\n",
    "- [1 - Packages](#1)\n",
    "    - [1.1 - Load the Data and Split the Data into Train/Test Sets](#1-1)\n",
    "- [2 - Layers in TF Keras](#2)\n",
    "- [3 - The Sequential API](#3)\n",
    "    - [3.1 - Create the Sequential Model](#3-1)\n",
    "        - [Exercise 1 - happyModel](#ex-1)\n",
    "    - [3.2 - Train and Evaluate the Model](#3-2)\n",
    "- [4 - The Functional API](#4)\n",
    "    - [4.1 - Load the SIGNS Dataset](#4-1)\n",
    "    - [4.2 - Split the Data into Train/Test Sets](#4-2)\n",
    "    - [4.3 - Forward Propagation](#4-3)\n",
    "        - [Exercise 2 - convolutional_model](#ex-2)\n",
    "    - [4.4 - Train the Model](#4-4)\n",
    "- [5 - History Object](#5)\n",
    "- [6 - Bibliography](#6)"
   ]
  },
  {
   "cell_type": "markdown",
   "metadata": {},
   "source": [
    "<a name='1'></a>\n",
    "## 1 - Packages\n",
    "\n",
    "As usual, begin by loading in the packages."
   ]
  },
  {
   "cell_type": "code",
   "execution_count": 1,
   "metadata": {},
   "outputs": [],
   "source": [
    "import math\n",
    "import numpy as np\n",
    "import h5py\n",
    "import matplotlib.pyplot as plt\n",
    "from matplotlib.pyplot import imread\n",
    "import scipy\n",
    "from PIL import Image\n",
    "import pandas as pd\n",
    "import tensorflow as tf\n",
    "import tensorflow.keras.layers as tfl\n",
    "from tensorflow.python.framework import ops\n",
    "from cnn_utils import *\n",
    "from test_utils import summary, comparator\n",
    "\n",
    "%matplotlib inline\n",
    "np.random.seed(1)"
   ]
  },
  {
   "cell_type": "markdown",
   "metadata": {},
   "source": [
    "<a name='1-1'></a>\n",
    "### 1.1 - Load the Data and Split the Data into Train/Test Sets\n",
    "\n",
    "You'll be using the Happy House dataset for this part of the assignment, which contains images of peoples' faces. Your task will be to build a ConvNet that determines whether the people in the images are smiling or not -- because they only get to enter the house if they're smiling!  "
   ]
  },
  {
   "cell_type": "code",
   "execution_count": 2,
   "metadata": {},
   "outputs": [
    {
     "name": "stdout",
     "output_type": "stream",
     "text": [
      "number of training examples = 600\n",
      "number of test examples = 150\n",
      "X_train shape: (600, 64, 64, 3)\n",
      "Y_train shape: (600, 1)\n",
      "X_test shape: (150, 64, 64, 3)\n",
      "Y_test shape: (150, 1)\n"
     ]
    }
   ],
   "source": [
    "X_train_orig, Y_train_orig, X_test_orig, Y_test_orig, classes = load_happy_dataset()\n",
    "\n",
    "# Normalize image vectors\n",
    "X_train = X_train_orig/255.\n",
    "X_test = X_test_orig/255.\n",
    "\n",
    "# Reshape\n",
    "Y_train = Y_train_orig.T\n",
    "Y_test = Y_test_orig.T\n",
    "\n",
    "print (\"number of training examples = \" + str(X_train.shape[0]))\n",
    "print (\"number of test examples = \" + str(X_test.shape[0]))\n",
    "print (\"X_train shape: \" + str(X_train.shape))\n",
    "print (\"Y_train shape: \" + str(Y_train.shape))\n",
    "print (\"X_test shape: \" + str(X_test.shape))\n",
    "print (\"Y_test shape: \" + str(Y_test.shape))"
   ]
  },
  {
   "cell_type": "markdown",
   "metadata": {},
   "source": [
    "You can display the images contained in the dataset. Images are **64x64** pixels in RGB format (3 channels)."
   ]
  },
  {
   "cell_type": "code",
   "execution_count": 3,
   "metadata": {},
   "outputs": [
    {
     "data": {
      "image/png": "[encoded data removed]",
      "text/plain": [
       "<Figure size 432x288 with 1 Axes>"
      ]
     },
     "metadata": {
      "needs_background": "light"
     },
     "output_type": "display_data"
    }
   ],
   "source": [
    "index = 124\n",
    "plt.imshow(X_train_orig[index]) #display sample training image\n",
    "plt.show()"
   ]
  },
  {
   "cell_type": "markdown",
   "metadata": {},
   "source": [
    "<a name='2'></a>\n",
    "## 2 - Layers in TF Keras \n",
    "\n",
    "In the previous assignment, you created layers manually in numpy. In TF Keras, you don't have to write code directly to create layers. Rather, TF Keras has pre-defined layers you can use. \n",
    "\n",
    "When you create a layer in TF Keras, you are creating a function that takes some input and transforms it into an output you can reuse later. Nice and easy! "
   ]
  },
  {
   "cell_type": "markdown",
   "metadata": {},
   "source": [
    "<a name='3'></a>\n",
    "## 3 - The Sequential API\n",
    "\n",
    "In the previous assignment, you built helper functions using `numpy` to understand the mechanics behind convolutional neural networks. Most practical applications of deep learning today are built using programming frameworks, which have many built-in functions you can simply call. Keras is a high-level abstraction built on top of TensorFlow, which allows for even more simplified and optimized model creation and training. \n",
    "\n",
    "For the first part of this assignment, you'll create a model using TF Keras' Sequential API, which allows you to build layer by layer, and is ideal for building models where each layer has **exactly one** input tensor and **one** output tensor. \n",
    "\n",
    "As you'll see, using the Sequential API is simple and straightforward, but is only appropriate for simpler, more straightforward tasks. Later in this notebook you'll spend some time building with a more flexible, powerful alternative: the Functional API. \n",
    " "
   ]
  },
  {
   "cell_type": "markdown",
   "metadata": {},
   "source": [
    "<a name='3-1'></a>\n",
    "### 3.1 - Create the Sequential Model\n",
    "\n",
    "As mentioned earlier, the TensorFlow Keras Sequential API can be used to build simple models with layer operations that proceed in a sequential order. \n",
    "\n",
    "You can also add layers incrementally to a Sequential model with the `.add()` method, or remove them using the `.pop()` method, much like you would in a regular Python list.\n",
    "\n",
    "Actually, you can think of a Sequential model as behaving like a list of layers. Like Python lists, Sequential layers are ordered, and the order in which they are specified matters.  If your model is non-linear or contains layers with multiple inputs or outputs, a Sequential model wouldn't be the right choice!\n",
    "\n",
    "For any layer construction in Keras, you'll need to specify the input shape in advance. This is because in Keras, the shape of the weights is based on the shape of the inputs. The weights are only created when the model first sees some input data. Sequential models can be created by passing a list of layers to the Sequential constructor, like you will do in the next assignment.\n",
    "\n",
    "<a name='ex-1'></a>\n",
    "### Exercise 1 - happyModel\n",
    "\n",
    "Implement the `happyModel` function below to build the following model: `ZEROPAD2D -> CONV2D -> BATCHNORM -> RELU -> MAXPOOL -> FLATTEN -> DENSE`. Take help from [tf.keras.layers](https://www.tensorflow.org/api_docs/python/tf/keras/layers) \n",
    "\n",
    "Also, plug in the following parameters for all the steps:\n",
    "\n",
    " - [ZeroPadding2D](https://www.tensorflow.org/api_docs/python/tf/keras/layers/ZeroPadding2D): padding 3, input shape 64 x 64 x 3\n",
    " - [Conv2D](https://www.tensorflow.org/api_docs/python/tf/keras/layers/Conv2D): Use 32 7x7 filters, stride 1\n",
    " - [BatchNormalization](https://www.tensorflow.org/api_docs/python/tf/keras/layers/BatchNormalization): for axis 3\n",
    " - [ReLU](https://www.tensorflow.org/api_docs/python/tf/keras/layers/ReLU)\n",
    " - [MaxPool2D](https://www.tensorflow.org/api_docs/python/tf/keras/layers/MaxPool2D): Using default parameters\n",
    " - [Flatten](https://www.tensorflow.org/api_docs/python/tf/keras/layers/Flatten) the previous output.\n",
    " - Fully-connected ([Dense](https://www.tensorflow.org/api_docs/python/tf/keras/layers/Dense)) layer: Apply a fully connected layer with 1 neuron and a sigmoid activation. \n",
    " \n",
    " \n",
    " **Hint:**\n",
    " \n",
    " Use **tfl** as shorthand for **tensorflow.keras.layers**"
   ]
  },
  {
   "cell_type": "code",
   "execution_count": 4,
   "metadata": {
    "deletable": false,
    "nbgrader": {
     "cell_type": "code",
     "checksum": "95d28b191f257bdd5b70c7b8952559d5",
     "grade": false,
     "grade_id": "cell-0e56d3fc28b69aec",
     "locked": false,
     "schema_version": 3,
     "solution": true,
     "task": false
    }
   },
   "outputs": [],
   "source": [
    "# GRADED FUNCTION: happyModel\n",
    "\n",
    "def happyModel():\n",
    "    \"\"\"\n",
    "    Implements the forward propagation for the binary classification model:\n",
    "    ZEROPAD2D -> CONV2D -> BATCHNORM -> RELU -> MAXPOOL -> FLATTEN -> DENSE\n",
    "    \n",
    "    Note that for simplicity and grading purposes, you'll hard-code all the values\n",
    "    such as the stride and kernel (filter) sizes. \n",
    "    Normally, functions should take these values as function parameters.\n",
    "    \n",
    "    Arguments:\n",
    "    None\n",
    "\n",
    "    Returns:\n",
    "    model -- TF Keras model (object containing the information for the entire training process) \n",
    "    \"\"\"\n",
    "    model = tf.keras.Sequential([\n",
    "        \n",
    "            ## ZeroPadding2D with padding 3, input shape of 64 x 64 x 3\n",
    "            tfl.ZeroPadding2D(padding = 3, input_shape = (64,64,3)),\n",
    "        \n",
    "            ## Conv2D with 32 7x7 filters and strides of 1\n",
    "            tfl.Conv2D(filters = 32, kernel_size = (7,7), strides = (1,1)),\n",
    "        \n",
    "            ## BatchNormalization for axis 3\n",
    "            tfl.BatchNormalization(axis = 3),\n",
    "        \n",
    "            ## ReLU\n",
    "            tfl.ReLU(),\n",
    "        \n",
    "            ## Max Pooling 2D with default parameters\n",
    "            tfl.MaxPool2D(),\n",
    "        \n",
    "            ## Flatten layer\n",
    "            tfl.Flatten(),\n",
    "        \n",
    "            ## Dense layer with 1 unit for output & 'sigmoid' activation\n",
    "            tfl.Dense(units = 1, activation = \"sigmoid\")\n",
    "        \n",
    "        ])\n",
    "    \n",
    "    return model"
   ]
  },
  {
   "cell_type": "code",
   "execution_count": 5,
   "metadata": {
    "deletable": false,
    "editable": false,
    "nbgrader": {
     "cell_type": "code",
     "checksum": "8d3575c950e2e78149be2d05d671c80d",
     "grade": true,
     "grade_id": "cell-e3e1046e5c33d775",
     "locked": true,
     "points": 10,
     "schema_version": 3,
     "solution": false,
     "task": false
    }
   },
   "outputs": [
    {
     "name": "stdout",
     "output_type": "stream",
     "text": [
      "['ZeroPadding2D', (None, 70, 70, 3), 0, ((3, 3), (3, 3))]\n",
      "['Conv2D', (None, 64, 64, 32), 4736, 'valid', 'linear', 'GlorotUniform']\n",
      "['BatchNormalization', (None, 64, 64, 32), 128]\n",
      "['ReLU', (None, 64, 64, 32), 0]\n",
      "['MaxPooling2D', (None, 32, 32, 32), 0, (2, 2), (2, 2), 'valid']\n",
      "['Flatten', (None, 32768), 0]\n",
      "['Dense', (None, 1), 32769, 'sigmoid']\n",
      "\u001b[32mAll tests passed!\u001b[0m\n"
     ]
    }
   ],
   "source": [
    "happy_model = happyModel()\n",
    "# Print a summary for each layer\n",
    "for layer in summary(happy_model):\n",
    "    print(layer)\n",
    "    \n",
    "output = [['ZeroPadding2D', (None, 70, 70, 3), 0, ((3, 3), (3, 3))],\n",
    "            ['Conv2D', (None, 64, 64, 32), 4736, 'valid', 'linear', 'GlorotUniform'],\n",
    "            ['BatchNormalization', (None, 64, 64, 32), 128],\n",
    "            ['ReLU', (None, 64, 64, 32), 0],\n",
    "            ['MaxPooling2D', (None, 32, 32, 32), 0, (2, 2), (2, 2), 'valid'],\n",
    "            ['Flatten', (None, 32768), 0],\n",
    "            ['Dense', (None, 1), 32769, 'sigmoid']]\n",
    "    \n",
    "comparator(summary(happy_model), output)"
   ]
  },
  {
   "cell_type": "markdown",
   "metadata": {},
   "source": [
    "Now that your model is created, you can compile it for training with an optimizer and loss of your choice. When the string `accuracy` is specified as a metric, the type of accuracy used will be automatically converted based on the loss function used. This is one of the many optimizations built into TensorFlow that make your life easier! If you'd like to read more on how the compiler operates, check the docs [here](https://www.tensorflow.org/api_docs/python/tf/keras/Model#compile)."
   ]
  },
  {
   "cell_type": "code",
   "execution_count": 6,
   "metadata": {},
   "outputs": [],
   "source": [
    "happy_model.compile(optimizer='adam',\n",
    "                   loss='binary_crossentropy',\n",
    "                   metrics=['accuracy'])"
   ]
  },
  {
   "cell_type": "markdown",
   "metadata": {},
   "source": [
    "It's time to check your model's parameters with the `.summary()` method. This will display the types of layers you have, the shape of the outputs, and how many parameters are in each layer. "
   ]
  },
  {
   "cell_type": "code",
   "execution_count": 7,
   "metadata": {},
   "outputs": [
    {
     "name": "stdout",
     "output_type": "stream",
     "text": [
      "Model: \"sequential\"\n",
      "_________________________________________________________________\n",
      "Layer (type)                 Output Shape              Param #   \n",
      "=================================================================\n",
      "zero_padding2d (ZeroPadding2 (None, 70, 70, 3)         0         \n",
      "_________________________________________________________________\n",
      "conv2d (Conv2D)              (None, 64, 64, 32)        4736      \n",
      "_________________________________________________________________\n",
      "batch_normalization (BatchNo (None, 64, 64, 32)        128       \n",
      "_________________________________________________________________\n",
      "re_lu (ReLU)                 (None, 64, 64, 32)        0         \n",
      "_________________________________________________________________\n",
      "max_pooling2d (MaxPooling2D) (None, 32, 32, 32)        0         \n",
      "_________________________________________________________________\n",
      "flatten (Flatten)            (None, 32768)             0         \n",
      "_________________________________________________________________\n",
      "dense (Dense)                (None, 1)                 32769     \n",
      "=================================================================\n",
      "Total params: 37,633\n",
      "Trainable params: 37,569\n",
      "Non-trainable params: 64\n",
      "_________________________________________________________________\n"
     ]
    }
   ],
   "source": [
    "happy_model.summary()"
   ]
  },
  {
   "cell_type": "markdown",
   "metadata": {},
   "source": [
    "<a name='3-2'></a>\n",
    "### 3.2 - Train and Evaluate the Model\n",
    "\n",
    "After creating the model, compiling it with your choice of optimizer and loss function, and doing a sanity check on its contents, you are now ready to build! \n",
    "\n",
    "Simply call `.fit()` to train. That's it! No need for mini-batching, saving, or complex backpropagation computations. That's all been done for you, as you're using a TensorFlow dataset with the batches specified already. You do have the option to specify epoch number or minibatch size if you like (for example, in the case of an un-batched dataset)."
   ]
  },
  {
   "cell_type": "code",
   "execution_count": 40,
   "metadata": {},
   "outputs": [
    {
     "name": "stdout",
     "output_type": "stream",
     "text": [
      "Epoch 1/10\n",
      "38/38 [==============================] - 4s 100ms/step - loss: 0.9231 - accuracy: 0.7267\n",
      "Epoch 2/10\n",
      "38/38 [==============================] - 4s 95ms/step - loss: 0.2178 - accuracy: 0.9150\n",
      "Epoch 3/10\n",
      "38/38 [==============================] - 4s 95ms/step - loss: 0.1539 - accuracy: 0.9367\n",
      "Epoch 4/10\n",
      "38/38 [==============================] - 4s 95ms/step - loss: 0.1061 - accuracy: 0.9633\n",
      "Epoch 5/10\n",
      "38/38 [==============================] - 4s 94ms/step - loss: 0.1993 - accuracy: 0.9333\n",
      "Epoch 6/10\n",
      "38/38 [==============================] - 4s 92ms/step - loss: 0.1046 - accuracy: 0.9550\n",
      "Epoch 7/10\n",
      "38/38 [==============================] - 4s 95ms/step - loss: 0.1110 - accuracy: 0.9667\n",
      "Epoch 8/10\n",
      "38/38 [==============================] - 4s 95ms/step - loss: 0.0715 - accuracy: 0.9733\n",
      "Epoch 9/10\n",
      "38/38 [==============================] - 4s 95ms/step - loss: 0.0662 - accuracy: 0.9783\n",
      "Epoch 10/10\n",
      "38/38 [==============================] - 4s 95ms/step - loss: 0.0625 - accuracy: 0.9850\n"
     ]
    },
    {
     "data": {
      "text/plain": [
       "<tensorflow.python.keras.callbacks.History at 0x7fc1a45196d0>"
      ]
     },
     "execution_count": 40,
     "metadata": {},
     "output_type": "execute_result"
    }
   ],
   "source": [
    "happy_model.fit(X_train, Y_train, epochs=10, batch_size=16)"
   ]
  },
  {
   "cell_type": "markdown",
   "metadata": {},
   "source": [
    "After that completes, just use `.evaluate()` to evaluate against your test set. This function will print the value of the loss function and the performance metrics specified during the compilation of the model. In this case, the `binary_crossentropy` and the `accuracy` respectively."
   ]
  },
  {
   "cell_type": "code",
   "execution_count": 41,
   "metadata": {},
   "outputs": [
    {
     "name": "stdout",
     "output_type": "stream",
     "text": [
      "5/5 [==============================] - 0s 41ms/step - loss: 0.1573 - accuracy: 0.9133\n"
     ]
    },
    {
     "data": {
      "text/plain": [
       "[0.15734604001045227, 0.9133333563804626]"
      ]
     },
     "execution_count": 41,
     "metadata": {},
     "output_type": "execute_result"
    }
   ],
   "source": [
    "happy_model.evaluate(X_test, Y_test)"
   ]
  },
  {
   "cell_type": "markdown",
   "metadata": {},
   "source": [
    "Easy, right? But what if you need to build a model with shared layers, branches, or multiple inputs and outputs? This is where Sequential, with its beautifully simple yet limited functionality, won't be able to help you. \n",
    "\n",
    "Next up: Enter the Functional API, your slightly more complex, highly flexible friend.  "
   ]
  },
  {
   "cell_type": "markdown",
   "metadata": {},
   "source": [
    "<a name='4'></a>\n",
    "## 4 - The Functional API"
   ]
  },
  {
   "cell_type": "markdown",
   "metadata": {},
   "source": [
    "Welcome to the second half of the assignment, where you'll use Keras' flexible [Functional API](https://www.tensorflow.org/guide/keras/functional) to build a ConvNet that can differentiate between 6 sign language digits. \n",
    "\n",
    "The Functional API can handle models with non-linear topology, shared layers, as well as layers with multiple inputs or outputs. Imagine that, where the Sequential API requires the model to move in a linear fashion through its layers, the Functional API allows much more flexibility. Where Sequential is a straight line, a Functional model is a graph, where the nodes of the layers can connect in many more ways than one. \n",
    "\n",
    "In the visual example below, the one possible direction of the movement Sequential model is shown in contrast to a skip connection, which is just one of the many ways a Functional model can be constructed. A skip connection, as you might have guessed, skips some layer in the network and feeds the output to a later layer in the network. Don't worry, you'll be spending more time with skip connections very soon! "
   ]
  },
  {
   "cell_type": "markdown",
   "metadata": {},
   "source": [
    "<img src=\"images/seq_vs_func.png\" style=\"width:350px;height:200px;\">"
   ]
  },
  {
   "cell_type": "markdown",
   "metadata": {},
   "source": [
    "<a name='4-1'></a>\n",
    "### 4.1 - Load the SIGNS Dataset\n",
    "\n",
    "As a reminder, the SIGNS dataset is a collection of 6 signs representing numbers from 0 to 5."
   ]
  },
  {
   "cell_type": "code",
   "execution_count": 8,
   "metadata": {},
   "outputs": [],
   "source": [
    "# Loading the data (signs)\n",
    "X_train_orig, Y_train_orig, X_test_orig, Y_test_orig, classes = load_signs_dataset()"
   ]
  },
  {
   "cell_type": "markdown",
   "metadata": {},
   "source": [
    "<img src=\"images/SIGNS.png\" style=\"width:800px;height:300px;\">\n",
    "\n",
    "The next cell will show you an example of a labelled image in the dataset. Feel free to change the value of `index` below and re-run to see different examples. "
   ]
  },
  {
   "cell_type": "code",
   "execution_count": 9,
   "metadata": {},
   "outputs": [
    {
     "name": "stdout",
     "output_type": "stream",
     "text": [
      "y = 4\n"
     ]
    },
    {
     "data": {
      "image/png": "[encoded data removed]",
      "text/plain": [
       "<Figure size 432x288 with 1 Axes>"
      ]
     },
     "metadata": {
      "needs_background": "light"
     },
     "output_type": "display_data"
    }
   ],
   "source": [
    "# Example of an image from the dataset\n",
    "index = 9\n",
    "plt.imshow(X_train_orig[index])\n",
    "print (\"y = \" + str(np.squeeze(Y_train_orig[:, index])))"
   ]
  },
  {
   "cell_type": "markdown",
   "metadata": {},
   "source": [
    "<a name='4-2'></a>\n",
    "### 4.2 - Split the Data into Train/Test Sets\n",
    "\n",
    "In Course 2, you built a fully-connected network for this dataset. But since this is an image dataset, it is more natural to apply a ConvNet to it.\n",
    "\n",
    "To get started, let's examine the shapes of your data. "
   ]
  },
  {
   "cell_type": "code",
   "execution_count": 10,
   "metadata": {},
   "outputs": [
    {
     "name": "stdout",
     "output_type": "stream",
     "text": [
      "number of training examples = 1080\n",
      "number of test examples = 120\n",
      "X_train shape: (1080, 64, 64, 3)\n",
      "Y_train shape: (1080, 6)\n",
      "X_test shape: (120, 64, 64, 3)\n",
      "Y_test shape: (120, 6)\n"
     ]
    }
   ],
   "source": [
    "X_train = X_train_orig/255.\n",
    "X_test = X_test_orig/255.\n",
    "Y_train = convert_to_one_hot(Y_train_orig, 6).T\n",
    "Y_test = convert_to_one_hot(Y_test_orig, 6).T\n",
    "print (\"number of training examples = \" + str(X_train.shape[0]))\n",
    "print (\"number of test examples = \" + str(X_test.shape[0]))\n",
    "print (\"X_train shape: \" + str(X_train.shape))\n",
    "print (\"Y_train shape: \" + str(Y_train.shape))\n",
    "print (\"X_test shape: \" + str(X_test.shape))\n",
    "print (\"Y_test shape: \" + str(Y_test.shape))"
   ]
  },
  {
   "cell_type": "markdown",
   "metadata": {},
   "source": [
    "<a name='4-3'></a>\n",
    "### 4.3 - Forward Propagation\n",
    "\n",
    "In TensorFlow, there are built-in functions that implement the convolution steps for you. By now, you should be familiar with how TensorFlow builds computational graphs. In the [Functional API](https://www.tensorflow.org/guide/keras/functional), you create a graph of layers. This is what allows such great flexibility.\n",
    "\n",
    "However, the following model could also be defined using the Sequential API since the information flow is on a single line. But don't deviate. What we want you to learn is to use the functional API.\n",
    "\n",
    "Begin building your graph of layers by creating an input node that functions as a callable object:\n",
    "\n",
    "- **input_img = tf.keras.Input(shape=input_shape):** \n",
    "\n",
    "Then, create a new node in the graph of layers by calling a layer on the `input_img` object: \n",
    "\n",
    "- **tf.keras.layers.Conv2D(filters= ... , kernel_size= ... , padding='same')(input_img):** Read the full documentation on [Conv2D](https://www.tensorflow.org/api_docs/python/tf/keras/layers/Conv2D).\n",
    "\n",
    "- **tf.keras.layers.MaxPool2D(pool_size=(f, f), strides=(s, s), padding='same'):** `MaxPool2D()` downsamples your input using a window of size (f, f) and strides of size (s, s) to carry out max pooling over each window.  For max pooling, you usually operate on a single example at a time and a single channel at a time. Read the full documentation on [MaxPool2D](https://www.tensorflow.org/api_docs/python/tf/keras/layers/MaxPool2D).\n",
    "\n",
    "- **tf.keras.layers.ReLU():** computes the elementwise ReLU of Z (which can be any shape). You can read the full documentation on [ReLU](https://www.tensorflow.org/api_docs/python/tf/keras/layers/ReLU).\n",
    "\n",
    "- **tf.keras.layers.Flatten()**: given a tensor \"P\", this function takes each training (or test) example in the batch and flattens it into a 1D vector.  \n",
    "\n",
    "    * If a tensor P has the shape (batch_size,h,w,c), it returns a flattened tensor with shape (batch_size, k), where $k=h \\times w \\times c$.  \"k\" equals the product of all the dimension sizes other than the first dimension.\n",
    "    \n",
    "    * For example, given a tensor with dimensions [100, 2, 3, 4], it flattens the tensor to be of shape [100, 24], where 24 = 2 * 3 * 4.  You can read the full documentation on [Flatten](https://www.tensorflow.org/api_docs/python/tf/keras/layers/Flatten).\n",
    "\n",
    "- **tf.keras.layers.Dense(units= ... , activation='softmax')(F):** given the flattened input F, it returns the output computed using a fully connected layer. You can read the full documentation on [Dense](https://www.tensorflow.org/api_docs/python/tf/keras/layers/Dense).\n",
    "\n",
    "In the last function above (`tf.keras.layers.Dense()`), the fully connected layer automatically initializes weights in the graph and keeps on training them as you train the model. Hence, you did not need to initialize those weights when initializing the parameters.\n",
    "\n",
    "Lastly, before creating the model, you'll need to define the output using the last of the function's compositions (in this example, a Dense layer): \n",
    "\n",
    "- **outputs = tf.keras.layers.Dense(units=6, activation='softmax')(F)**\n",
    "\n",
    "\n",
    "#### Window, kernel, filter, pool\n",
    "\n",
    "The words \"kernel\" and \"filter\" are used to refer to the same thing. The word \"filter\" accounts for the amount of \"kernels\" that will be used in a single convolution layer. \"Pool\" is the name of the operation that takes the max or average value of the kernels. \n",
    "\n",
    "This is why the parameter `pool_size` refers to `kernel_size`, and you use `(f,f)` to refer to the filter size. \n",
    "\n",
    "Pool size and kernel size refer to the same thing in different objects - They refer to the shape of the window where the operation takes place. "
   ]
  },
  {
   "cell_type": "markdown",
   "metadata": {},
   "source": [
    "<a name='ex-2'></a>\n",
    "### Exercise 2 - convolutional_model\n",
    "\n",
    "Implement the `convolutional_model` function below to build the following model: `CONV2D -> RELU -> MAXPOOL -> CONV2D -> RELU -> MAXPOOL -> FLATTEN -> DENSE`. Use the functions above! \n",
    "\n",
    "Also, plug in the following parameters for all the steps:\n",
    "\n",
    " - [Conv2D](https://www.tensorflow.org/api_docs/python/tf/keras/layers/Conv2D): Use 8 4 by 4 filters, stride 1, padding is \"SAME\"\n",
    " - [ReLU](https://www.tensorflow.org/api_docs/python/tf/keras/layers/ReLU)\n",
    " - [MaxPool2D](https://www.tensorflow.org/api_docs/python/tf/keras/layers/MaxPool2D): Use an 8 by 8 filter size and an 8 by 8 stride, padding is \"SAME\"\n",
    " - **Conv2D**: Use 16 2 by 2 filters, stride 1, padding is \"SAME\"\n",
    " - **ReLU**\n",
    " - **MaxPool2D**: Use a 4 by 4 filter size and a 4 by 4 stride, padding is \"SAME\"\n",
    " - [Flatten](https://www.tensorflow.org/api_docs/python/tf/keras/layers/Flatten) the previous output.\n",
    " - Fully-connected ([Dense](https://www.tensorflow.org/api_docs/python/tf/keras/layers/Dense)) layer: Apply a fully connected layer with 6 neurons and a softmax activation. "
   ]
  },
  {
   "cell_type": "code",
   "execution_count": 13,
   "metadata": {
    "deletable": false,
    "nbgrader": {
     "cell_type": "code",
     "checksum": "f58643806aa8380c96225fc8b4c5e7aa",
     "grade": false,
     "grade_id": "cell-dac51744a9e03f51",
     "locked": false,
     "schema_version": 3,
     "solution": true,
     "task": false
    }
   },
   "outputs": [],
   "source": [
    "# GRADED FUNCTION: convolutional_model\n",
    "\n",
    "def convolutional_model(input_shape):\n",
    "    \"\"\"\n",
    "    Implements the forward propagation for the model:\n",
    "    CONV2D -> RELU -> MAXPOOL -> CONV2D -> RELU -> MAXPOOL -> FLATTEN -> DENSE\n",
    "    \n",
    "    Note that for simplicity and grading purposes, you'll hard-code some values\n",
    "    such as the stride and kernel (filter) sizes. \n",
    "    Normally, functions should take these values as function parameters.\n",
    "    \n",
    "    Arguments:\n",
    "    input_img -- input dataset, of shape (input_shape)\n",
    "\n",
    "    Returns:\n",
    "    model -- TF Keras model (object containing the information for the entire training process) \n",
    "    \"\"\"\n",
    "\n",
    "    input_img = tf.keras.Input(shape=input_shape)\n",
    "    \n",
    "    ## CONV2D: 8 filters 4x4, stride of 1, padding 'SAME'\n",
    "    conv2d = tfl.Conv2D(filters = 8, kernel_size = (4,4), strides = (1,1), padding = \"same\")\n",
    "    Z1 = conv2d(input_img)\n",
    "    \n",
    "    ## RELU\n",
    "    relu = tfl.ReLU()\n",
    "    A1 = relu(Z1)\n",
    "    \n",
    "    ## MAXPOOL: window 8x8, stride 8, padding 'SAME'\n",
    "    maxp = tfl.MaxPool2D(pool_size=(8,8), strides=(8,8), padding=\"same\")\n",
    "    P1 = maxp(A1)\n",
    "    \n",
    "    ## CONV2D: 16 filters 2x2, stride 1, padding 'SAME'\n",
    "    conv2d2 = tfl.Conv2D(filters = 16, kernel_size = (2,2), strides = (1,1), padding = \"same\")\n",
    "    Z2 = conv2d2(P1)\n",
    "    \n",
    "    ## RELU\n",
    "    relu2 = tfl.ReLU()\n",
    "    A2 = relu2(Z2)\n",
    "    \n",
    "    ## MAXPOOL: window 4x4, stride 4, padding 'SAME'\n",
    "    maxp2 = tfl.MaxPool2D(pool_size=(4,4), strides=(4,4), padding=\"same\")\n",
    "    P2 = maxp2(A2)\n",
    "    \n",
    "    ## FLATTEN\n",
    "    flat = tfl.Flatten()\n",
    "    F = flat(P2)\n",
    "    \n",
    "    ## Dense layer\n",
    "    ## 6 neurons in output layer. Hint: one of the arguments should be \"activation='softmax'\" \n",
    "    dense = tfl.Dense(units = 6, activation = \"softmax\")\n",
    "    \n",
    "    # Outputs\n",
    "    outputs = dense(F)\n",
    "    \n",
    "    model = tf.keras.Model(inputs=input_img, outputs=outputs)\n",
    "    return model"
   ]
  },
  {
   "cell_type": "code",
   "execution_count": 14,
   "metadata": {
    "deletable": false,
    "editable": false,
    "nbgrader": {
     "cell_type": "code",
     "checksum": "483d626949930a0b0ef20997e7c6ba72",
     "grade": true,
     "grade_id": "cell-45d22e92042174c9",
     "locked": true,
     "points": 10,
     "schema_version": 3,
     "solution": false,
     "task": false
    }
   },
   "outputs": [
    {
     "name": "stdout",
     "output_type": "stream",
     "text": [
      "Model: \"functional_1\"\n",
      "_________________________________________________________________\n",
      "Layer (type)                 Output Shape              Param #   \n",
      "=================================================================\n",
      "input_2 (InputLayer)         [(None, 64, 64, 3)]       0         \n",
      "_________________________________________________________________\n",
      "conv2d_3 (Conv2D)            (None, 64, 64, 8)         392       \n",
      "_________________________________________________________________\n",
      "re_lu_3 (ReLU)               (None, 64, 64, 8)         0         \n",
      "_________________________________________________________________\n",
      "max_pooling2d_3 (MaxPooling2 (None, 8, 8, 8)           0         \n",
      "_________________________________________________________________\n",
      "conv2d_4 (Conv2D)            (None, 8, 8, 16)          528       \n",
      "_________________________________________________________________\n",
      "re_lu_4 (ReLU)               (None, 8, 8, 16)          0         \n",
      "_________________________________________________________________\n",
      "max_pooling2d_4 (MaxPooling2 (None, 2, 2, 16)          0         \n",
      "_________________________________________________________________\n",
      "flatten_2 (Flatten)          (None, 64)                0         \n",
      "_________________________________________________________________\n",
      "dense_2 (Dense)              (None, 6)                 390       \n",
      "=================================================================\n",
      "Total params: 1,310\n",
      "Trainable params: 1,310\n",
      "Non-trainable params: 0\n",
      "_________________________________________________________________\n",
      "\u001b[32mAll tests passed!\u001b[0m\n"
     ]
    }
   ],
   "source": [
    "conv_model = convolutional_model((64, 64, 3))\n",
    "conv_model.compile(optimizer='adam',\n",
    "                  loss='categorical_crossentropy',\n",
    "                  metrics=['accuracy'])\n",
    "conv_model.summary()\n",
    "    \n",
    "output = [['InputLayer', [(None, 64, 64, 3)], 0],\n",
    "        ['Conv2D', (None, 64, 64, 8), 392, 'same', 'linear', 'GlorotUniform'],\n",
    "        ['ReLU', (None, 64, 64, 8), 0],\n",
    "        ['MaxPooling2D', (None, 8, 8, 8), 0, (8, 8), (8, 8), 'same'],\n",
    "        ['Conv2D', (None, 8, 8, 16), 528, 'same', 'linear', 'GlorotUniform'],\n",
    "        ['ReLU', (None, 8, 8, 16), 0],\n",
    "        ['MaxPooling2D', (None, 2, 2, 16), 0, (4, 4), (4, 4), 'same'],\n",
    "        ['Flatten', (None, 64), 0],\n",
    "        ['Dense', (None, 6), 390, 'softmax']]\n",
    "    \n",
    "comparator(summary(conv_model), output)"
   ]
  },
  {
   "cell_type": "markdown",
   "metadata": {},
   "source": [
    "Both the Sequential and Functional APIs return a TF Keras model object. The only difference is how inputs are handled inside the object model! "
   ]
  },
  {
   "cell_type": "markdown",
   "metadata": {},
   "source": [
    "<a name='4-4'></a>\n",
    "### 4.4 - Train the Model"
   ]
  },
  {
   "cell_type": "code",
   "execution_count": 15,
   "metadata": {},
   "outputs": [
    {
     "name": "stdout",
     "output_type": "stream",
     "text": [
      "Epoch 1/100\n",
      "17/17 [==============================] - 2s 117ms/step - loss: 1.8070 - accuracy: 0.1833 - val_loss: 1.7874 - val_accuracy: 0.2500\n",
      "Epoch 2/100\n",
      "17/17 [==============================] - 2s 106ms/step - loss: 1.7861 - accuracy: 0.2278 - val_loss: 1.7857 - val_accuracy: 0.2083\n",
      "Epoch 3/100\n",
      "17/17 [==============================] - 2s 106ms/step - loss: 1.7817 - accuracy: 0.2481 - val_loss: 1.7832 - val_accuracy: 0.2417\n",
      "Epoch 4/100\n",
      "17/17 [==============================] - 2s 101ms/step - loss: 1.7768 - accuracy: 0.2750 - val_loss: 1.7797 - val_accuracy: 0.3000\n",
      "Epoch 5/100\n",
      "17/17 [==============================] - 2s 101ms/step - loss: 1.7720 - accuracy: 0.2991 - val_loss: 1.7765 - val_accuracy: 0.2583\n",
      "Epoch 6/100\n",
      "17/17 [==============================] - 2s 101ms/step - loss: 1.7659 - accuracy: 0.3167 - val_loss: 1.7714 - val_accuracy: 0.3000\n",
      "Epoch 7/100\n",
      "17/17 [==============================] - 2s 106ms/step - loss: 1.7580 - accuracy: 0.3315 - val_loss: 1.7652 - val_accuracy: 0.2667\n",
      "Epoch 8/100\n",
      "17/17 [==============================] - 2s 102ms/step - loss: 1.7489 - accuracy: 0.3250 - val_loss: 1.7575 - val_accuracy: 0.3333\n",
      "Epoch 9/100\n",
      "17/17 [==============================] - 2s 106ms/step - loss: 1.7367 - accuracy: 0.3361 - val_loss: 1.7482 - val_accuracy: 0.3083\n",
      "Epoch 10/100\n",
      "17/17 [==============================] - 2s 107ms/step - loss: 1.7213 - accuracy: 0.3639 - val_loss: 1.7352 - val_accuracy: 0.3250\n",
      "Epoch 11/100\n",
      "17/17 [==============================] - 2s 106ms/step - loss: 1.6976 - accuracy: 0.3630 - val_loss: 1.7119 - val_accuracy: 0.3667\n",
      "Epoch 12/100\n",
      "17/17 [==============================] - 2s 106ms/step - loss: 1.6637 - accuracy: 0.4000 - val_loss: 1.6844 - val_accuracy: 0.3750\n",
      "Epoch 13/100\n",
      "17/17 [==============================] - 2s 106ms/step - loss: 1.6246 - accuracy: 0.4102 - val_loss: 1.6537 - val_accuracy: 0.3667\n",
      "Epoch 14/100\n",
      "17/17 [==============================] - 2s 106ms/step - loss: 1.5840 - accuracy: 0.4120 - val_loss: 1.6187 - val_accuracy: 0.3583\n",
      "Epoch 15/100\n",
      "17/17 [==============================] - 2s 106ms/step - loss: 1.5413 - accuracy: 0.4157 - val_loss: 1.5813 - val_accuracy: 0.3500\n",
      "Epoch 16/100\n",
      "17/17 [==============================] - 2s 111ms/step - loss: 1.4969 - accuracy: 0.4185 - val_loss: 1.5433 - val_accuracy: 0.3500\n",
      "Epoch 17/100\n",
      "17/17 [==============================] - 2s 106ms/step - loss: 1.4543 - accuracy: 0.4241 - val_loss: 1.5082 - val_accuracy: 0.3500\n",
      "Epoch 18/100\n",
      "17/17 [==============================] - 2s 106ms/step - loss: 1.4139 - accuracy: 0.4343 - val_loss: 1.4745 - val_accuracy: 0.3833\n",
      "Epoch 19/100\n",
      "17/17 [==============================] - 2s 111ms/step - loss: 1.3763 - accuracy: 0.4546 - val_loss: 1.4385 - val_accuracy: 0.4167\n",
      "Epoch 20/100\n",
      "17/17 [==============================] - 2s 106ms/step - loss: 1.3403 - accuracy: 0.4722 - val_loss: 1.4037 - val_accuracy: 0.4500\n",
      "Epoch 21/100\n",
      "17/17 [==============================] - 2s 112ms/step - loss: 1.3062 - accuracy: 0.4944 - val_loss: 1.3740 - val_accuracy: 0.4583\n",
      "Epoch 22/100\n",
      "17/17 [==============================] - 2s 111ms/step - loss: 1.2717 - accuracy: 0.5157 - val_loss: 1.3357 - val_accuracy: 0.4667\n",
      "Epoch 23/100\n",
      "17/17 [==============================] - 2s 106ms/step - loss: 1.2391 - accuracy: 0.5287 - val_loss: 1.3045 - val_accuracy: 0.4917\n",
      "Epoch 24/100\n",
      "17/17 [==============================] - 2s 105ms/step - loss: 1.2040 - accuracy: 0.5537 - val_loss: 1.2673 - val_accuracy: 0.5000\n",
      "Epoch 25/100\n",
      "17/17 [==============================] - 2s 107ms/step - loss: 1.1725 - accuracy: 0.5694 - val_loss: 1.2403 - val_accuracy: 0.4917\n",
      "Epoch 26/100\n",
      "17/17 [==============================] - 2s 106ms/step - loss: 1.1407 - accuracy: 0.5944 - val_loss: 1.2061 - val_accuracy: 0.5250\n",
      "Epoch 27/100\n",
      "17/17 [==============================] - 2s 106ms/step - loss: 1.1120 - accuracy: 0.6000 - val_loss: 1.1778 - val_accuracy: 0.5167\n",
      "Epoch 28/100\n",
      "17/17 [==============================] - 2s 106ms/step - loss: 1.0846 - accuracy: 0.6176 - val_loss: 1.1518 - val_accuracy: 0.5417\n",
      "Epoch 29/100\n",
      "17/17 [==============================] - 2s 107ms/step - loss: 1.0589 - accuracy: 0.6333 - val_loss: 1.1279 - val_accuracy: 0.5667\n",
      "Epoch 30/100\n",
      "17/17 [==============================] - 2s 106ms/step - loss: 1.0332 - accuracy: 0.6407 - val_loss: 1.1006 - val_accuracy: 0.5917\n",
      "Epoch 31/100\n",
      "17/17 [==============================] - 2s 102ms/step - loss: 1.0085 - accuracy: 0.6481 - val_loss: 1.0769 - val_accuracy: 0.5917\n",
      "Epoch 32/100\n",
      "17/17 [==============================] - 2s 106ms/step - loss: 0.9859 - accuracy: 0.6611 - val_loss: 1.0556 - val_accuracy: 0.5917\n",
      "Epoch 33/100\n",
      "17/17 [==============================] - 2s 107ms/step - loss: 0.9640 - accuracy: 0.6713 - val_loss: 1.0347 - val_accuracy: 0.6000\n",
      "Epoch 34/100\n",
      "17/17 [==============================] - 2s 106ms/step - loss: 0.9430 - accuracy: 0.6815 - val_loss: 1.0150 - val_accuracy: 0.6000\n",
      "Epoch 35/100\n",
      "17/17 [==============================] - 2s 106ms/step - loss: 0.9228 - accuracy: 0.6972 - val_loss: 0.9975 - val_accuracy: 0.5917\n",
      "Epoch 36/100\n",
      "17/17 [==============================] - 2s 106ms/step - loss: 0.9031 - accuracy: 0.7037 - val_loss: 0.9796 - val_accuracy: 0.6000\n",
      "Epoch 37/100\n",
      "17/17 [==============================] - 2s 106ms/step - loss: 0.8846 - accuracy: 0.7185 - val_loss: 0.9606 - val_accuracy: 0.6167\n",
      "Epoch 38/100\n",
      "17/17 [==============================] - 2s 106ms/step - loss: 0.8664 - accuracy: 0.7315 - val_loss: 0.9423 - val_accuracy: 0.6083\n",
      "Epoch 39/100\n",
      "17/17 [==============================] - 2s 111ms/step - loss: 0.8502 - accuracy: 0.7352 - val_loss: 0.9270 - val_accuracy: 0.6167\n",
      "Epoch 40/100\n",
      "17/17 [==============================] - 2s 106ms/step - loss: 0.8327 - accuracy: 0.7417 - val_loss: 0.9082 - val_accuracy: 0.6333\n",
      "Epoch 41/100\n",
      "17/17 [==============================] - 2s 106ms/step - loss: 0.8164 - accuracy: 0.7454 - val_loss: 0.8963 - val_accuracy: 0.6417\n",
      "Epoch 42/100\n",
      "17/17 [==============================] - 2s 106ms/step - loss: 0.8014 - accuracy: 0.7435 - val_loss: 0.8792 - val_accuracy: 0.6333\n",
      "Epoch 43/100\n",
      "17/17 [==============================] - 2s 106ms/step - loss: 0.7868 - accuracy: 0.7528 - val_loss: 0.8672 - val_accuracy: 0.6250\n",
      "Epoch 44/100\n",
      "17/17 [==============================] - 2s 101ms/step - loss: 0.7713 - accuracy: 0.7602 - val_loss: 0.8531 - val_accuracy: 0.6250\n",
      "Epoch 45/100\n",
      "17/17 [==============================] - 2s 106ms/step - loss: 0.7574 - accuracy: 0.7630 - val_loss: 0.8419 - val_accuracy: 0.6333\n",
      "Epoch 46/100\n",
      "17/17 [==============================] - 2s 106ms/step - loss: 0.7455 - accuracy: 0.7704 - val_loss: 0.8285 - val_accuracy: 0.6333\n",
      "Epoch 47/100\n",
      "17/17 [==============================] - 2s 106ms/step - loss: 0.7328 - accuracy: 0.7741 - val_loss: 0.8183 - val_accuracy: 0.6500\n",
      "Epoch 48/100\n",
      "17/17 [==============================] - 2s 107ms/step - loss: 0.7203 - accuracy: 0.7796 - val_loss: 0.8056 - val_accuracy: 0.6583\n",
      "Epoch 49/100\n",
      "17/17 [==============================] - 2s 106ms/step - loss: 0.7091 - accuracy: 0.7796 - val_loss: 0.7950 - val_accuracy: 0.6667\n",
      "Epoch 50/100\n",
      "17/17 [==============================] - 2s 106ms/step - loss: 0.6978 - accuracy: 0.7880 - val_loss: 0.7846 - val_accuracy: 0.6667\n",
      "Epoch 51/100\n",
      "17/17 [==============================] - 2s 106ms/step - loss: 0.6872 - accuracy: 0.7907 - val_loss: 0.7739 - val_accuracy: 0.6750\n",
      "Epoch 52/100\n",
      "17/17 [==============================] - 2s 106ms/step - loss: 0.6777 - accuracy: 0.7917 - val_loss: 0.7641 - val_accuracy: 0.6833\n",
      "Epoch 53/100\n",
      "17/17 [==============================] - 2s 107ms/step - loss: 0.6672 - accuracy: 0.7954 - val_loss: 0.7537 - val_accuracy: 0.6917\n",
      "Epoch 54/100\n",
      "17/17 [==============================] - 2s 106ms/step - loss: 0.6585 - accuracy: 0.7954 - val_loss: 0.7430 - val_accuracy: 0.7000\n",
      "Epoch 55/100\n",
      "17/17 [==============================] - 2s 102ms/step - loss: 0.6483 - accuracy: 0.8009 - val_loss: 0.7340 - val_accuracy: 0.7000\n",
      "Epoch 56/100\n",
      "17/17 [==============================] - 2s 106ms/step - loss: 0.6399 - accuracy: 0.8028 - val_loss: 0.7255 - val_accuracy: 0.7083\n",
      "Epoch 57/100\n",
      "17/17 [==============================] - 2s 107ms/step - loss: 0.6310 - accuracy: 0.8065 - val_loss: 0.7144 - val_accuracy: 0.7167\n",
      "Epoch 58/100\n",
      "17/17 [==============================] - 2s 101ms/step - loss: 0.6228 - accuracy: 0.8065 - val_loss: 0.7067 - val_accuracy: 0.7167\n",
      "Epoch 59/100\n",
      "17/17 [==============================] - 2s 106ms/step - loss: 0.6147 - accuracy: 0.8102 - val_loss: 0.6973 - val_accuracy: 0.7167\n",
      "Epoch 60/100\n",
      "17/17 [==============================] - 2s 106ms/step - loss: 0.6065 - accuracy: 0.8148 - val_loss: 0.6891 - val_accuracy: 0.7167\n",
      "Epoch 61/100\n",
      "17/17 [==============================] - 2s 101ms/step - loss: 0.5993 - accuracy: 0.8194 - val_loss: 0.6802 - val_accuracy: 0.7167\n",
      "Epoch 62/100\n",
      "17/17 [==============================] - 2s 106ms/step - loss: 0.5921 - accuracy: 0.8231 - val_loss: 0.6733 - val_accuracy: 0.7250\n",
      "Epoch 63/100\n",
      "17/17 [==============================] - 2s 106ms/step - loss: 0.5851 - accuracy: 0.8259 - val_loss: 0.6660 - val_accuracy: 0.7250\n",
      "Epoch 64/100\n",
      "17/17 [==============================] - 2s 102ms/step - loss: 0.5787 - accuracy: 0.8306 - val_loss: 0.6595 - val_accuracy: 0.7333\n",
      "Epoch 65/100\n",
      "17/17 [==============================] - 2s 106ms/step - loss: 0.5719 - accuracy: 0.8278 - val_loss: 0.6527 - val_accuracy: 0.7333\n",
      "Epoch 66/100\n",
      "17/17 [==============================] - 2s 106ms/step - loss: 0.5660 - accuracy: 0.8333 - val_loss: 0.6471 - val_accuracy: 0.7500\n",
      "Epoch 67/100\n",
      "17/17 [==============================] - 2s 106ms/step - loss: 0.5600 - accuracy: 0.8380 - val_loss: 0.6409 - val_accuracy: 0.7583\n",
      "Epoch 68/100\n",
      "17/17 [==============================] - 2s 106ms/step - loss: 0.5543 - accuracy: 0.8398 - val_loss: 0.6363 - val_accuracy: 0.7583\n",
      "Epoch 69/100\n",
      "17/17 [==============================] - 2s 101ms/step - loss: 0.5486 - accuracy: 0.8417 - val_loss: 0.6307 - val_accuracy: 0.7583\n",
      "Epoch 70/100\n",
      "17/17 [==============================] - 2s 101ms/step - loss: 0.5434 - accuracy: 0.8407 - val_loss: 0.6261 - val_accuracy: 0.7583\n",
      "Epoch 71/100\n",
      "17/17 [==============================] - 2s 106ms/step - loss: 0.5378 - accuracy: 0.8444 - val_loss: 0.6214 - val_accuracy: 0.7583\n",
      "Epoch 72/100\n",
      "17/17 [==============================] - 2s 102ms/step - loss: 0.5331 - accuracy: 0.8426 - val_loss: 0.6170 - val_accuracy: 0.7583\n",
      "Epoch 73/100\n",
      "17/17 [==============================] - 2s 106ms/step - loss: 0.5280 - accuracy: 0.8435 - val_loss: 0.6129 - val_accuracy: 0.7583\n",
      "Epoch 74/100\n",
      "17/17 [==============================] - 2s 106ms/step - loss: 0.5232 - accuracy: 0.8444 - val_loss: 0.6087 - val_accuracy: 0.7750\n",
      "Epoch 75/100\n",
      "17/17 [==============================] - 2s 106ms/step - loss: 0.5184 - accuracy: 0.8472 - val_loss: 0.6049 - val_accuracy: 0.7750\n",
      "Epoch 76/100\n",
      "17/17 [==============================] - 2s 106ms/step - loss: 0.5137 - accuracy: 0.8491 - val_loss: 0.6009 - val_accuracy: 0.7750\n",
      "Epoch 77/100\n",
      "17/17 [==============================] - 2s 106ms/step - loss: 0.5094 - accuracy: 0.8509 - val_loss: 0.5972 - val_accuracy: 0.7750\n",
      "Epoch 78/100\n",
      "17/17 [==============================] - 2s 106ms/step - loss: 0.5051 - accuracy: 0.8509 - val_loss: 0.5935 - val_accuracy: 0.7833\n",
      "Epoch 79/100\n",
      "17/17 [==============================] - 2s 106ms/step - loss: 0.5010 - accuracy: 0.8509 - val_loss: 0.5898 - val_accuracy: 0.7833\n",
      "Epoch 80/100\n",
      "17/17 [==============================] - 2s 106ms/step - loss: 0.4968 - accuracy: 0.8519 - val_loss: 0.5865 - val_accuracy: 0.7833\n",
      "Epoch 81/100\n",
      "17/17 [==============================] - 2s 106ms/step - loss: 0.4931 - accuracy: 0.8537 - val_loss: 0.5833 - val_accuracy: 0.7833\n",
      "Epoch 82/100\n",
      "17/17 [==============================] - 2s 111ms/step - loss: 0.4890 - accuracy: 0.8546 - val_loss: 0.5802 - val_accuracy: 0.7833\n",
      "Epoch 83/100\n",
      "17/17 [==============================] - 2s 106ms/step - loss: 0.4853 - accuracy: 0.8556 - val_loss: 0.5777 - val_accuracy: 0.7833\n",
      "Epoch 84/100\n",
      "17/17 [==============================] - 2s 106ms/step - loss: 0.4816 - accuracy: 0.8556 - val_loss: 0.5752 - val_accuracy: 0.7833\n",
      "Epoch 85/100\n",
      "17/17 [==============================] - 2s 106ms/step - loss: 0.4777 - accuracy: 0.8574 - val_loss: 0.5732 - val_accuracy: 0.7833\n",
      "Epoch 86/100\n",
      "17/17 [==============================] - 2s 106ms/step - loss: 0.4743 - accuracy: 0.8593 - val_loss: 0.5712 - val_accuracy: 0.7750\n",
      "Epoch 87/100\n",
      "17/17 [==============================] - 2s 106ms/step - loss: 0.4701 - accuracy: 0.8583 - val_loss: 0.5679 - val_accuracy: 0.7917\n",
      "Epoch 88/100\n",
      "17/17 [==============================] - 2s 100ms/step - loss: 0.4666 - accuracy: 0.8620 - val_loss: 0.5656 - val_accuracy: 0.7917\n",
      "Epoch 89/100\n",
      "17/17 [==============================] - 2s 106ms/step - loss: 0.4634 - accuracy: 0.8630 - val_loss: 0.5639 - val_accuracy: 0.7917\n",
      "Epoch 90/100\n",
      "17/17 [==============================] - 2s 111ms/step - loss: 0.4597 - accuracy: 0.8630 - val_loss: 0.5611 - val_accuracy: 0.7917\n",
      "Epoch 91/100\n",
      "17/17 [==============================] - 2s 106ms/step - loss: 0.4565 - accuracy: 0.8630 - val_loss: 0.5600 - val_accuracy: 0.7833\n",
      "Epoch 92/100\n",
      "17/17 [==============================] - 2s 106ms/step - loss: 0.4526 - accuracy: 0.8639 - val_loss: 0.5577 - val_accuracy: 0.7833\n",
      "Epoch 93/100\n",
      "17/17 [==============================] - 2s 106ms/step - loss: 0.4491 - accuracy: 0.8639 - val_loss: 0.5554 - val_accuracy: 0.7833\n",
      "Epoch 94/100\n",
      "17/17 [==============================] - 2s 106ms/step - loss: 0.4464 - accuracy: 0.8648 - val_loss: 0.5543 - val_accuracy: 0.7833\n",
      "Epoch 95/100\n",
      "17/17 [==============================] - 2s 100ms/step - loss: 0.4430 - accuracy: 0.8676 - val_loss: 0.5516 - val_accuracy: 0.7833\n",
      "Epoch 96/100\n",
      "17/17 [==============================] - 2s 101ms/step - loss: 0.4400 - accuracy: 0.8676 - val_loss: 0.5505 - val_accuracy: 0.7833\n",
      "Epoch 97/100\n",
      "17/17 [==============================] - 2s 106ms/step - loss: 0.4368 - accuracy: 0.8685 - val_loss: 0.5484 - val_accuracy: 0.7833\n",
      "Epoch 98/100\n",
      "17/17 [==============================] - 2s 106ms/step - loss: 0.4337 - accuracy: 0.8694 - val_loss: 0.5468 - val_accuracy: 0.7833\n",
      "Epoch 99/100\n",
      "17/17 [==============================] - 2s 106ms/step - loss: 0.4307 - accuracy: 0.8704 - val_loss: 0.5450 - val_accuracy: 0.7833\n",
      "Epoch 100/100\n",
      "17/17 [==============================] - 2s 106ms/step - loss: 0.4276 - accuracy: 0.8704 - val_loss: 0.5433 - val_accuracy: 0.7833\n"
     ]
    }
   ],
   "source": [
    "train_dataset = tf.data.Dataset.from_tensor_slices((X_train, Y_train)).batch(64)\n",
    "test_dataset = tf.data.Dataset.from_tensor_slices((X_test, Y_test)).batch(64)\n",
    "history = conv_model.fit(train_dataset, epochs=100, validation_data=test_dataset)"
   ]
  },
  {
   "cell_type": "markdown",
   "metadata": {},
   "source": [
    "<a name='5'></a>\n",
    "## 5 - History Object \n",
    "\n",
    "The history object is an output of the `.fit()` operation, and provides a record of all the loss and metric values in memory. It's stored as a dictionary that you can retrieve at `history.history`: "
   ]
  },
  {
   "cell_type": "code",
   "execution_count": 16,
   "metadata": {},
   "outputs": [
    {
     "data": {
      "text/plain": [
       "{'loss': [1.8069700002670288,\n",
       "  1.7860922813415527,\n",
       "  1.7816967964172363,\n",
       "  1.7767740488052368,\n",
       "  1.7719753980636597,\n",
       "  1.7659443616867065,\n",
       "  1.7579509019851685,\n",
       "  1.7489150762557983,\n",
       "  1.7366714477539062,\n",
       "  1.7212767601013184,\n",
       "  1.697617769241333,\n",
       "  1.6637163162231445,\n",
       "  1.6245957612991333,\n",
       "  1.5839701890945435,\n",
       "  1.5413483381271362,\n",
       "  1.4969127178192139,\n",
       "  1.4542653560638428,\n",
       "  1.4138925075531006,\n",
       "  1.3763231039047241,\n",
       "  1.3403137922286987,\n",
       "  1.3062394857406616,\n",
       "  1.271748423576355,\n",
       "  1.2391281127929688,\n",
       "  1.2040327787399292,\n",
       "  1.1725027561187744,\n",
       "  1.1407220363616943,\n",
       "  1.1120201349258423,\n",
       "  1.0846223831176758,\n",
       "  1.0589295625686646,\n",
       "  1.033247470855713,\n",
       "  1.0085066556930542,\n",
       "  0.9859287738800049,\n",
       "  0.9639880061149597,\n",
       "  0.9430448412895203,\n",
       "  0.9227641820907593,\n",
       "  0.9030628800392151,\n",
       "  0.8845855593681335,\n",
       "  0.8663535714149475,\n",
       "  0.8502046465873718,\n",
       "  0.8326541781425476,\n",
       "  0.8164370059967041,\n",
       "  0.8014377355575562,\n",
       "  0.7868009805679321,\n",
       "  0.7713251709938049,\n",
       "  0.7573876976966858,\n",
       "  0.7455489635467529,\n",
       "  0.7327678203582764,\n",
       "  0.7202774882316589,\n",
       "  0.7090667486190796,\n",
       "  0.6978145837783813,\n",
       "  0.6872245073318481,\n",
       "  0.6777201890945435,\n",
       "  0.6672192811965942,\n",
       "  0.6585175395011902,\n",
       "  0.6482778787612915,\n",
       "  0.6399028301239014,\n",
       "  0.6309821009635925,\n",
       "  0.6227701306343079,\n",
       "  0.6146753430366516,\n",
       "  0.6064993143081665,\n",
       "  0.5993123650550842,\n",
       "  0.5920724868774414,\n",
       "  0.5851215124130249,\n",
       "  0.5786628723144531,\n",
       "  0.5719460844993591,\n",
       "  0.5660029649734497,\n",
       "  0.5599802136421204,\n",
       "  0.5542949438095093,\n",
       "  0.5485979318618774,\n",
       "  0.543432354927063,\n",
       "  0.5378183722496033,\n",
       "  0.5331063866615295,\n",
       "  0.5280268788337708,\n",
       "  0.523210883140564,\n",
       "  0.5183621048927307,\n",
       "  0.5137139558792114,\n",
       "  0.5093957781791687,\n",
       "  0.5050657987594604,\n",
       "  0.5009921193122864,\n",
       "  0.4967968463897705,\n",
       "  0.4931427538394928,\n",
       "  0.4889782965183258,\n",
       "  0.4853261411190033,\n",
       "  0.48158738017082214,\n",
       "  0.477726012468338,\n",
       "  0.4742983877658844,\n",
       "  0.47012630105018616,\n",
       "  0.46660909056663513,\n",
       "  0.4634263515472412,\n",
       "  0.4596569836139679,\n",
       "  0.45648542046546936,\n",
       "  0.45259395241737366,\n",
       "  0.44914618134498596,\n",
       "  0.4463895261287689,\n",
       "  0.4430356025695801,\n",
       "  0.44001859426498413,\n",
       "  0.4368274211883545,\n",
       "  0.4336835741996765,\n",
       "  0.43069905042648315,\n",
       "  0.4276394844055176],\n",
       " 'accuracy': [0.18333333730697632,\n",
       "  0.22777777910232544,\n",
       "  0.2481481432914734,\n",
       "  0.2750000059604645,\n",
       "  0.29907408356666565,\n",
       "  0.3166666626930237,\n",
       "  0.3314814865589142,\n",
       "  0.32499998807907104,\n",
       "  0.3361110985279083,\n",
       "  0.3638888895511627,\n",
       "  0.3629629611968994,\n",
       "  0.4000000059604645,\n",
       "  0.41018518805503845,\n",
       "  0.41203704476356506,\n",
       "  0.4157407283782959,\n",
       "  0.4185185134410858,\n",
       "  0.42407408356666565,\n",
       "  0.4342592656612396,\n",
       "  0.4546296298503876,\n",
       "  0.4722222089767456,\n",
       "  0.49444442987442017,\n",
       "  0.5157407522201538,\n",
       "  0.5287036895751953,\n",
       "  0.5537037253379822,\n",
       "  0.5694444179534912,\n",
       "  0.5944444537162781,\n",
       "  0.6000000238418579,\n",
       "  0.6175925731658936,\n",
       "  0.6333333253860474,\n",
       "  0.6407407522201538,\n",
       "  0.6481481194496155,\n",
       "  0.6611111164093018,\n",
       "  0.6712962985038757,\n",
       "  0.6814814805984497,\n",
       "  0.6972222328186035,\n",
       "  0.7037037014961243,\n",
       "  0.7185184955596924,\n",
       "  0.7314814925193787,\n",
       "  0.7351852059364319,\n",
       "  0.7416666746139526,\n",
       "  0.7453703880310059,\n",
       "  0.7435185313224792,\n",
       "  0.7527777552604675,\n",
       "  0.760185182094574,\n",
       "  0.7629629373550415,\n",
       "  0.770370364189148,\n",
       "  0.7740740776062012,\n",
       "  0.779629647731781,\n",
       "  0.779629647731781,\n",
       "  0.7879629731178284,\n",
       "  0.7907407283782959,\n",
       "  0.7916666865348816,\n",
       "  0.7953703999519348,\n",
       "  0.7953703999519348,\n",
       "  0.8009259104728699,\n",
       "  0.8027777671813965,\n",
       "  0.8064814805984497,\n",
       "  0.8064814805984497,\n",
       "  0.8101851940155029,\n",
       "  0.8148148059844971,\n",
       "  0.8194444179534912,\n",
       "  0.8231481313705444,\n",
       "  0.8259259462356567,\n",
       "  0.8305555582046509,\n",
       "  0.8277778029441833,\n",
       "  0.8333333134651184,\n",
       "  0.8379629850387573,\n",
       "  0.8398148417472839,\n",
       "  0.8416666388511658,\n",
       "  0.8407407402992249,\n",
       "  0.8444444537162781,\n",
       "  0.8425925970077515,\n",
       "  0.8435184955596924,\n",
       "  0.8444444537162781,\n",
       "  0.8472222089767456,\n",
       "  0.8490740656852722,\n",
       "  0.8509259223937988,\n",
       "  0.8509259223937988,\n",
       "  0.8509259223937988,\n",
       "  0.8518518805503845,\n",
       "  0.8537036776542664,\n",
       "  0.854629635810852,\n",
       "  0.855555534362793,\n",
       "  0.855555534362793,\n",
       "  0.8574073910713196,\n",
       "  0.8592592477798462,\n",
       "  0.8583333492279053,\n",
       "  0.8620370626449585,\n",
       "  0.8629629611968994,\n",
       "  0.8629629611968994,\n",
       "  0.8629629611968994,\n",
       "  0.8638888597488403,\n",
       "  0.8638888597488403,\n",
       "  0.864814817905426,\n",
       "  0.8675925731658936,\n",
       "  0.8675925731658936,\n",
       "  0.8685185313224792,\n",
       "  0.8694444298744202,\n",
       "  0.8703703880310059,\n",
       "  0.8703703880310059],\n",
       " 'val_loss': [1.787421464920044,\n",
       "  1.7857495546340942,\n",
       "  1.7831588983535767,\n",
       "  1.779698133468628,\n",
       "  1.7764533758163452,\n",
       "  1.7714284658432007,\n",
       "  1.765228509902954,\n",
       "  1.757458209991455,\n",
       "  1.748202919960022,\n",
       "  1.7351527214050293,\n",
       "  1.7118620872497559,\n",
       "  1.6843920946121216,\n",
       "  1.6536511182785034,\n",
       "  1.6186654567718506,\n",
       "  1.5812925100326538,\n",
       "  1.5433439016342163,\n",
       "  1.5081731081008911,\n",
       "  1.474463939666748,\n",
       "  1.4385435581207275,\n",
       "  1.4036784172058105,\n",
       "  1.3740483522415161,\n",
       "  1.335741400718689,\n",
       "  1.3044544458389282,\n",
       "  1.26725172996521,\n",
       "  1.2402628660202026,\n",
       "  1.206092357635498,\n",
       "  1.177775263786316,\n",
       "  1.1517614126205444,\n",
       "  1.1278681755065918,\n",
       "  1.1005878448486328,\n",
       "  1.0768827199935913,\n",
       "  1.0555520057678223,\n",
       "  1.0346578359603882,\n",
       "  1.0150184631347656,\n",
       "  0.9974777102470398,\n",
       "  0.9795524477958679,\n",
       "  0.9606494307518005,\n",
       "  0.9422627687454224,\n",
       "  0.9270474910736084,\n",
       "  0.9082254767417908,\n",
       "  0.8963028788566589,\n",
       "  0.8791701793670654,\n",
       "  0.8671548366546631,\n",
       "  0.853097677230835,\n",
       "  0.8419462442398071,\n",
       "  0.8284834623336792,\n",
       "  0.8182799816131592,\n",
       "  0.8056138157844543,\n",
       "  0.7949687242507935,\n",
       "  0.784638524055481,\n",
       "  0.7738873362541199,\n",
       "  0.7641066312789917,\n",
       "  0.753691554069519,\n",
       "  0.7429892420768738,\n",
       "  0.7339561581611633,\n",
       "  0.7255479097366333,\n",
       "  0.7143719792366028,\n",
       "  0.7066606879234314,\n",
       "  0.6972854733467102,\n",
       "  0.6891321539878845,\n",
       "  0.6802319884300232,\n",
       "  0.673287570476532,\n",
       "  0.6660335659980774,\n",
       "  0.6594892144203186,\n",
       "  0.6527119278907776,\n",
       "  0.6470776200294495,\n",
       "  0.6409377455711365,\n",
       "  0.636343240737915,\n",
       "  0.6306623220443726,\n",
       "  0.6261259913444519,\n",
       "  0.6214438080787659,\n",
       "  0.6169726252555847,\n",
       "  0.6129267811775208,\n",
       "  0.6086989641189575,\n",
       "  0.6048668026924133,\n",
       "  0.6008788347244263,\n",
       "  0.597244143486023,\n",
       "  0.5935442447662354,\n",
       "  0.5898273587226868,\n",
       "  0.5864596962928772,\n",
       "  0.5832659006118774,\n",
       "  0.5802005529403687,\n",
       "  0.5776906609535217,\n",
       "  0.5752198100090027,\n",
       "  0.5731894373893738,\n",
       "  0.5711707472801208,\n",
       "  0.5679423213005066,\n",
       "  0.5655507445335388,\n",
       "  0.563886284828186,\n",
       "  0.561068594455719,\n",
       "  0.5600216388702393,\n",
       "  0.5577396154403687,\n",
       "  0.5554326772689819,\n",
       "  0.5542678833007812,\n",
       "  0.5516349077224731,\n",
       "  0.550509512424469,\n",
       "  0.5483722686767578,\n",
       "  0.5468421578407288,\n",
       "  0.5450183749198914,\n",
       "  0.5433050990104675],\n",
       " 'val_accuracy': [0.25,\n",
       "  0.2083333283662796,\n",
       "  0.24166665971279144,\n",
       "  0.30000001192092896,\n",
       "  0.25833332538604736,\n",
       "  0.30000001192092896,\n",
       "  0.2666666805744171,\n",
       "  0.3333333432674408,\n",
       "  0.3083333373069763,\n",
       "  0.32499998807907104,\n",
       "  0.36666667461395264,\n",
       "  0.375,\n",
       "  0.36666667461395264,\n",
       "  0.3583333194255829,\n",
       "  0.3499999940395355,\n",
       "  0.3499999940395355,\n",
       "  0.3499999940395355,\n",
       "  0.38333332538604736,\n",
       "  0.4166666567325592,\n",
       "  0.44999998807907104,\n",
       "  0.4583333432674408,\n",
       "  0.46666666865348816,\n",
       "  0.49166667461395264,\n",
       "  0.5,\n",
       "  0.49166667461395264,\n",
       "  0.5249999761581421,\n",
       "  0.5166666507720947,\n",
       "  0.5416666865348816,\n",
       "  0.5666666626930237,\n",
       "  0.5916666388511658,\n",
       "  0.5916666388511658,\n",
       "  0.5916666388511658,\n",
       "  0.6000000238418579,\n",
       "  0.6000000238418579,\n",
       "  0.5916666388511658,\n",
       "  0.6000000238418579,\n",
       "  0.6166666746139526,\n",
       "  0.6083333492279053,\n",
       "  0.6166666746139526,\n",
       "  0.6333333253860474,\n",
       "  0.6416666507720947,\n",
       "  0.6333333253860474,\n",
       "  0.625,\n",
       "  0.625,\n",
       "  0.6333333253860474,\n",
       "  0.6333333253860474,\n",
       "  0.6499999761581421,\n",
       "  0.6583333611488342,\n",
       "  0.6666666865348816,\n",
       "  0.6666666865348816,\n",
       "  0.675000011920929,\n",
       "  0.6833333373069763,\n",
       "  0.6916666626930237,\n",
       "  0.699999988079071,\n",
       "  0.699999988079071,\n",
       "  0.7083333134651184,\n",
       "  0.7166666388511658,\n",
       "  0.7166666388511658,\n",
       "  0.7166666388511658,\n",
       "  0.7166666388511658,\n",
       "  0.7166666388511658,\n",
       "  0.7250000238418579,\n",
       "  0.7250000238418579,\n",
       "  0.7333333492279053,\n",
       "  0.7333333492279053,\n",
       "  0.75,\n",
       "  0.7583333253860474,\n",
       "  0.7583333253860474,\n",
       "  0.7583333253860474,\n",
       "  0.7583333253860474,\n",
       "  0.7583333253860474,\n",
       "  0.7583333253860474,\n",
       "  0.7583333253860474,\n",
       "  0.7749999761581421,\n",
       "  0.7749999761581421,\n",
       "  0.7749999761581421,\n",
       "  0.7749999761581421,\n",
       "  0.7833333611488342,\n",
       "  0.7833333611488342,\n",
       "  0.7833333611488342,\n",
       "  0.7833333611488342,\n",
       "  0.7833333611488342,\n",
       "  0.7833333611488342,\n",
       "  0.7833333611488342,\n",
       "  0.7833333611488342,\n",
       "  0.7749999761581421,\n",
       "  0.7916666865348816,\n",
       "  0.7916666865348816,\n",
       "  0.7916666865348816,\n",
       "  0.7916666865348816,\n",
       "  0.7833333611488342,\n",
       "  0.7833333611488342,\n",
       "  0.7833333611488342,\n",
       "  0.7833333611488342,\n",
       "  0.7833333611488342,\n",
       "  0.7833333611488342,\n",
       "  0.7833333611488342,\n",
       "  0.7833333611488342,\n",
       "  0.7833333611488342,\n",
       "  0.7833333611488342]}"
      ]
     },
     "execution_count": 16,
     "metadata": {},
     "output_type": "execute_result"
    }
   ],
   "source": [
    "history.history"
   ]
  },
  {
   "cell_type": "markdown",
   "metadata": {},
   "source": [
    "Now visualize the loss over time using `history.history`: "
   ]
  },
  {
   "cell_type": "code",
   "execution_count": 17,
   "metadata": {},
   "outputs": [
    {
     "data": {
      "text/plain": [
       "[Text(0, 0.5, 'Accuracy'), Text(0.5, 0, 'Epoch')]"
      ]
     },
     "execution_count": 17,
     "metadata": {},
     "output_type": "execute_result"
    },
    {
     "data": {
      "image/png": "[encoded data removed]",
      "text/plain": [
       "<Figure size 864x576 with 1 Axes>"
      ]
     },
     "metadata": {
      "needs_background": "light"
     },
     "output_type": "display_data"
    },
    {
     "data": {
      "image/png": "[encoded data removed]",
      "text/plain": [
       "<Figure size 864x576 with 1 Axes>"
      ]
     },
     "metadata": {
      "needs_background": "light"
     },
     "output_type": "display_data"
    }
   ],
   "source": [
    "# The history.history[\"loss\"] entry is a dictionary with as many values as epochs that the\n",
    "# model was trained on. \n",
    "df_loss_acc = pd.DataFrame(history.history)\n",
    "df_loss= df_loss_acc[['loss','val_loss']]\n",
    "df_loss.rename(columns={'loss':'train','val_loss':'validation'},inplace=True)\n",
    "df_acc= df_loss_acc[['accuracy','val_accuracy']]\n",
    "df_acc.rename(columns={'accuracy':'train','val_accuracy':'validation'},inplace=True)\n",
    "df_loss.plot(title='Model loss',figsize=(12,8)).set(xlabel='Epoch',ylabel='Loss')\n",
    "df_acc.plot(title='Model Accuracy',figsize=(12,8)).set(xlabel='Epoch',ylabel='Accuracy')"
   ]
  },
  {
   "cell_type": "markdown",
   "metadata": {},
   "source": [
    "**Congratulations**! You've finished the assignment and built two models: One that recognizes  smiles, and another that recognizes SIGN language with almost 80% accuracy on the test set. In addition to that, you now also understand the applications of two Keras APIs: Sequential and Functional. Nicely done! \n",
    "\n",
    "By now, you know a bit about how the Functional API works and may have glimpsed the possibilities. In your next assignment, you'll really get a feel for its power when you get the opportunity to build a very deep ConvNet, using ResNets! "
   ]
  },
  {
   "cell_type": "markdown",
   "metadata": {},
   "source": [
    "<a name='6'></a>\n",
    "## 6 - Bibliography\n",
    "\n",
    "You're always encouraged to read the official documentation. To that end, you can find the docs for the Sequential and Functional APIs here: \n",
    "\n",
    "https://www.tensorflow.org/guide/keras/sequential_model\n",
    "\n",
    "https://www.tensorflow.org/guide/keras/functional"
   ]
  }
 ],
 "metadata": {
  "coursera": {
   "course_slug": "convolutional-neural-networks",
   "graded_item_id": "bwbJV",
   "launcher_item_id": "0TkXB"
  },
  "kernelspec": {
   "display_name": "Python 3",
   "language": "python",
   "name": "python3"
  },
  "language_info": {
   "codemirror_mode": {
    "name": "ipython",
    "version": 3
   },
   "file_extension": ".py",
   "mimetype": "text/x-python",
   "name": "python",
   "nbconvert_exporter": "python",
   "pygments_lexer": "ipython3",
   "version": "3.7.6"
  }
 },
 "nbformat": 4,
 "nbformat_minor": 2
}
