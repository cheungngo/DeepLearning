{
  "nbformat": 4,
  "nbformat_minor": 0,
  "metadata": {
    "accelerator": "GPU",
    "colab": {
      "name": "C3_W4_Assignment.ipynb",
      "provenance": [],
      "toc_visible": true
    },
    "kernelspec": {
      "display_name": "Python 3",
      "language": "python",
      "name": "python3"
    },
    "language_info": {
      "codemirror_mode": {
        "name": "ipython",
        "version": 3
      },
      "file_extension": ".py",
      "mimetype": "text/x-python",
      "name": "python",
      "nbconvert_exporter": "python",
      "pygments_lexer": "ipython3",
      "version": "3.8.5"
    }
  },
  "cells": [
    {
      "cell_type": "code",
      "metadata": {
        "id": "T2XpcPvbXalN"
      },
      "source": [
        "#@title Licensed under the Apache License, Version 2.0 (the \"License\");\n",
        "# you may not use this file except in compliance with the License.\n",
        "# You may obtain a copy of the License at\n",
        "#\n",
        "# https://www.apache.org/licenses/LICENSE-2.0\n",
        "#\n",
        "# Unless required by applicable law or agreed to in writing, software\n",
        "# distributed under the License is distributed on an \"AS IS\" BASIS,\n",
        "# WITHOUT WARRANTIES OR CONDITIONS OF ANY KIND, either express or implied.\n",
        "# See the License for the specific language governing permissions and\n",
        "# limitations under the License."
      ],
      "execution_count": null,
      "outputs": []
    },
    {
      "cell_type": "markdown",
      "metadata": {
        "id": "eK88h3Y5XalO"
      },
      "source": [
        "**Note:** This notebook can run using TensorFlow 2.5.0"
      ]
    },
    {
      "cell_type": "code",
      "metadata": {
        "id": "zX4Kg8DUTKWO"
      },
      "source": [
        "#!pip install tensorflow==2.5.0"
      ],
      "execution_count": null,
      "outputs": []
    },
    {
      "cell_type": "code",
      "metadata": {
        "id": "BOwsuGQQY9OL"
      },
      "source": [
        "from tensorflow.keras.preprocessing.sequence import pad_sequences\n",
        "from tensorflow.keras.layers import Embedding, LSTM, Dense, Dropout, Bidirectional\n",
        "from tensorflow.keras.preprocessing.text import Tokenizer\n",
        "from tensorflow.keras.models import Sequential\n",
        "from tensorflow.keras.optimizers import Adam\n",
        "### YOUR CODE HERE\n",
        "from keras import regularizers\n",
        "###\n",
        "import tensorflow.keras.utils as ku \n",
        "import numpy as np "
      ],
      "execution_count": 8,
      "outputs": []
    },
    {
      "cell_type": "code",
      "metadata": {
        "id": "PRnDnCW-Z7qv",
        "outputId": "bf5893d2-4dca-4574-f291-83ca0364bba9",
        "colab": {
          "base_uri": "https://localhost:8080/"
        }
      },
      "source": [
        "tokenizer = Tokenizer()\n",
        "\n",
        "# sonnets.txt\n",
        "!gdown --id 108jAePKK4R3BVYBbYJZ32JWUwxeMg20K\n",
        "\n",
        "data = open('./sonnets.txt').read()\n",
        "\n",
        "corpus = data.lower().split(\"\\n\")\n",
        "\n",
        "\n",
        "tokenizer.fit_on_texts(corpus)\n",
        "total_words = len(tokenizer.word_index) + 1\n",
        "\n",
        "# create input sequences using list of tokens\n",
        "input_sequences = []\n",
        "for line in corpus:\n",
        "\ttoken_list = tokenizer.texts_to_sequences([line])[0]\n",
        "\tfor i in range(1, len(token_list)):\n",
        "\t\tn_gram_sequence = token_list[:i+1]\n",
        "\t\tinput_sequences.append(n_gram_sequence)\n",
        "\n",
        "\n",
        "# pad sequences \n",
        "max_sequence_len = max([len(x) for x in input_sequences])\n",
        "input_sequences = np.array(pad_sequences(input_sequences, maxlen=max_sequence_len, padding='pre'))\n",
        "\n",
        "# create predictors and label\n",
        "predictors, label = input_sequences[:,:-1],input_sequences[:,-1]\n",
        "\n",
        "label = ku.to_categorical(label, num_classes=total_words)"
      ],
      "execution_count": 9,
      "outputs": [
        {
          "output_type": "stream",
          "name": "stdout",
          "text": [
            "Downloading...\n",
            "From: https://drive.google.com/uc?id=108jAePKK4R3BVYBbYJZ32JWUwxeMg20K\n",
            "To: /content/sonnets.txt\n",
            "\r  0% 0.00/93.6k [00:00<?, ?B/s]\r100% 93.6k/93.6k [00:00<00:00, 28.7MB/s]\n"
          ]
        }
      ]
    },
    {
      "cell_type": "code",
      "metadata": {
        "id": "w9vH8Y59ajYL",
        "outputId": "4e98a703-1cd7-465c-e28a-6b7ded708c76",
        "colab": {
          "base_uri": "https://localhost:8080/"
        }
      },
      "source": [
        "### START CODE HERE\n",
        "model = Sequential()\n",
        "model.add(Embedding(total_words, 100, input_length=max_sequence_len-1))\n",
        "model.add(Bidirectional(LSTM(150, return_sequences = True)))\n",
        "model.add(Dropout(0.2))\n",
        "model.add(LSTM(100)) # NOT bidirectional\n",
        "model.add(Dense(total_words//2, input_dim=64,\n",
        "                kernel_regularizer=regularizers.l2(0.01),\n",
        "                activation = \"relu\"))\n",
        "model.add(Dense(total_words, activation = \"softmax\"))\n",
        "optim = \"adam\"\n",
        "model.compile(loss='categorical_crossentropy', optimizer='adam', metrics = [\"accuracy\"])\n",
        "### END CODE HERE\n",
        "    \n",
        "print(model.summary())"
      ],
      "execution_count": 23,
      "outputs": [
        {
          "output_type": "stream",
          "name": "stdout",
          "text": [
            "Model: \"sequential_2\"\n",
            "_________________________________________________________________\n",
            " Layer (type)                Output Shape              Param #   \n",
            "=================================================================\n",
            " embedding_2 (Embedding)     (None, 10, 100)           321100    \n",
            "                                                                 \n",
            " bidirectional_4 (Bidirectio  (None, 10, 300)          301200    \n",
            " nal)                                                            \n",
            "                                                                 \n",
            " dropout_2 (Dropout)         (None, 10, 300)           0         \n",
            "                                                                 \n",
            " lstm_5 (LSTM)               (None, 100)               160400    \n",
            "                                                                 \n",
            " dense_4 (Dense)             (None, 1605)              162105    \n",
            "                                                                 \n",
            " dense_5 (Dense)             (None, 3211)              5156866   \n",
            "                                                                 \n",
            "=================================================================\n",
            "Total params: 6,101,671\n",
            "Trainable params: 6,101,671\n",
            "Non-trainable params: 0\n",
            "_________________________________________________________________\n",
            "None\n"
          ]
        }
      ]
    },
    {
      "cell_type": "code",
      "metadata": {
        "id": "AIg2f1HBxqof",
        "outputId": "7bd29617-8ff2-41b2-9b85-7f0c7ac65ee7",
        "colab": {
          "base_uri": "https://localhost:8080/"
        }
      },
      "source": [
        " history = model.fit(predictors, label, epochs=100, verbose=1)"
      ],
      "execution_count": 24,
      "outputs": [
        {
          "output_type": "stream",
          "name": "stdout",
          "text": [
            "Epoch 1/100\n",
            "484/484 [==============================] - 25s 31ms/step - loss: 6.9139 - accuracy: 0.0204\n",
            "Epoch 2/100\n",
            "484/484 [==============================] - 13s 26ms/step - loss: 6.5020 - accuracy: 0.0235\n",
            "Epoch 3/100\n",
            "484/484 [==============================] - 12s 26ms/step - loss: 6.4083 - accuracy: 0.0243\n",
            "Epoch 4/100\n",
            "484/484 [==============================] - 12s 25ms/step - loss: 6.2823 - accuracy: 0.0315\n",
            "Epoch 5/100\n",
            "484/484 [==============================] - 12s 25ms/step - loss: 6.1865 - accuracy: 0.0361\n",
            "Epoch 6/100\n",
            "484/484 [==============================] - 12s 24ms/step - loss: 6.1016 - accuracy: 0.0390\n",
            "Epoch 7/100\n",
            "484/484 [==============================] - 12s 24ms/step - loss: 6.0279 - accuracy: 0.0418\n",
            "Epoch 8/100\n",
            "484/484 [==============================] - 12s 24ms/step - loss: 5.9390 - accuracy: 0.0449\n",
            "Epoch 9/100\n",
            "484/484 [==============================] - 12s 25ms/step - loss: 5.8339 - accuracy: 0.0510\n",
            "Epoch 10/100\n",
            "484/484 [==============================] - 12s 24ms/step - loss: 5.7225 - accuracy: 0.0579\n",
            "Epoch 11/100\n",
            "484/484 [==============================] - 11s 24ms/step - loss: 5.6180 - accuracy: 0.0642\n",
            "Epoch 12/100\n",
            "484/484 [==============================] - 12s 24ms/step - loss: 5.5132 - accuracy: 0.0705\n",
            "Epoch 13/100\n",
            "484/484 [==============================] - 11s 24ms/step - loss: 5.4173 - accuracy: 0.0762\n",
            "Epoch 14/100\n",
            "484/484 [==============================] - 11s 24ms/step - loss: 5.3126 - accuracy: 0.0838\n",
            "Epoch 15/100\n",
            "484/484 [==============================] - 11s 24ms/step - loss: 5.2107 - accuracy: 0.0904\n",
            "Epoch 16/100\n",
            "484/484 [==============================] - 11s 24ms/step - loss: 5.1116 - accuracy: 0.0977\n",
            "Epoch 17/100\n",
            "484/484 [==============================] - 11s 24ms/step - loss: 5.0177 - accuracy: 0.1055\n",
            "Epoch 18/100\n",
            "484/484 [==============================] - 11s 24ms/step - loss: 4.9135 - accuracy: 0.1138\n",
            "Epoch 19/100\n",
            "484/484 [==============================] - 11s 24ms/step - loss: 4.8119 - accuracy: 0.1209\n",
            "Epoch 20/100\n",
            "484/484 [==============================] - 11s 24ms/step - loss: 4.7158 - accuracy: 0.1288\n",
            "Epoch 21/100\n",
            "484/484 [==============================] - 11s 24ms/step - loss: 4.6188 - accuracy: 0.1369\n",
            "Epoch 22/100\n",
            "484/484 [==============================] - 11s 24ms/step - loss: 4.5159 - accuracy: 0.1462\n",
            "Epoch 23/100\n",
            "484/484 [==============================] - 11s 24ms/step - loss: 4.4074 - accuracy: 0.1614\n",
            "Epoch 24/100\n",
            "484/484 [==============================] - 11s 24ms/step - loss: 4.3164 - accuracy: 0.1713\n",
            "Epoch 25/100\n",
            "484/484 [==============================] - 11s 24ms/step - loss: 4.2142 - accuracy: 0.1813\n",
            "Epoch 26/100\n",
            "484/484 [==============================] - 11s 24ms/step - loss: 4.1119 - accuracy: 0.1932\n",
            "Epoch 27/100\n",
            "484/484 [==============================] - 12s 24ms/step - loss: 4.0149 - accuracy: 0.2073\n",
            "Epoch 28/100\n",
            "484/484 [==============================] - 12s 24ms/step - loss: 3.9109 - accuracy: 0.2230\n",
            "Epoch 29/100\n",
            "484/484 [==============================] - 12s 24ms/step - loss: 3.8138 - accuracy: 0.2395\n",
            "Epoch 30/100\n",
            "484/484 [==============================] - 11s 24ms/step - loss: 3.7229 - accuracy: 0.2528\n",
            "Epoch 31/100\n",
            "484/484 [==============================] - 12s 24ms/step - loss: 3.6207 - accuracy: 0.2765\n",
            "Epoch 32/100\n",
            "484/484 [==============================] - 11s 24ms/step - loss: 3.5353 - accuracy: 0.2945\n",
            "Epoch 33/100\n",
            "484/484 [==============================] - 11s 24ms/step - loss: 3.4492 - accuracy: 0.3158\n",
            "Epoch 34/100\n",
            "484/484 [==============================] - 12s 24ms/step - loss: 3.3699 - accuracy: 0.3353\n",
            "Epoch 35/100\n",
            "484/484 [==============================] - 12s 24ms/step - loss: 3.2802 - accuracy: 0.3533\n",
            "Epoch 36/100\n",
            "484/484 [==============================] - 11s 24ms/step - loss: 3.2031 - accuracy: 0.3666\n",
            "Epoch 37/100\n",
            "484/484 [==============================] - 12s 24ms/step - loss: 3.1264 - accuracy: 0.3881\n",
            "Epoch 38/100\n",
            "484/484 [==============================] - 12s 24ms/step - loss: 3.0467 - accuracy: 0.4074\n",
            "Epoch 39/100\n",
            "484/484 [==============================] - 12s 24ms/step - loss: 2.9744 - accuracy: 0.4201\n",
            "Epoch 40/100\n",
            "484/484 [==============================] - 12s 24ms/step - loss: 2.9112 - accuracy: 0.4336\n",
            "Epoch 41/100\n",
            "484/484 [==============================] - 12s 24ms/step - loss: 2.8339 - accuracy: 0.4525\n",
            "Epoch 42/100\n",
            "484/484 [==============================] - 12s 24ms/step - loss: 2.7686 - accuracy: 0.4652\n",
            "Epoch 43/100\n",
            "484/484 [==============================] - 11s 24ms/step - loss: 2.7051 - accuracy: 0.4819\n",
            "Epoch 44/100\n",
            "484/484 [==============================] - 11s 24ms/step - loss: 2.6494 - accuracy: 0.4973\n",
            "Epoch 45/100\n",
            "484/484 [==============================] - 12s 24ms/step - loss: 2.6001 - accuracy: 0.5053\n",
            "Epoch 46/100\n",
            "484/484 [==============================] - 11s 24ms/step - loss: 2.5259 - accuracy: 0.5208\n",
            "Epoch 47/100\n",
            "484/484 [==============================] - 11s 24ms/step - loss: 2.4740 - accuracy: 0.5319\n",
            "Epoch 48/100\n",
            "484/484 [==============================] - 12s 24ms/step - loss: 2.4292 - accuracy: 0.5420\n",
            "Epoch 49/100\n",
            "484/484 [==============================] - 11s 24ms/step - loss: 2.3710 - accuracy: 0.5554\n",
            "Epoch 50/100\n",
            "484/484 [==============================] - 12s 24ms/step - loss: 2.3239 - accuracy: 0.5666\n",
            "Epoch 51/100\n",
            "484/484 [==============================] - 12s 24ms/step - loss: 2.2786 - accuracy: 0.5770\n",
            "Epoch 52/100\n",
            "484/484 [==============================] - 11s 24ms/step - loss: 2.2216 - accuracy: 0.5891\n",
            "Epoch 53/100\n",
            "484/484 [==============================] - 12s 24ms/step - loss: 2.1759 - accuracy: 0.6008\n",
            "Epoch 54/100\n",
            "484/484 [==============================] - 11s 24ms/step - loss: 2.1282 - accuracy: 0.6089\n",
            "Epoch 55/100\n",
            "484/484 [==============================] - 12s 24ms/step - loss: 2.0903 - accuracy: 0.6163\n",
            "Epoch 56/100\n",
            "484/484 [==============================] - 12s 24ms/step - loss: 2.0571 - accuracy: 0.6256\n",
            "Epoch 57/100\n",
            "484/484 [==============================] - 11s 24ms/step - loss: 2.0156 - accuracy: 0.6343\n",
            "Epoch 58/100\n",
            "484/484 [==============================] - 12s 24ms/step - loss: 1.9709 - accuracy: 0.6436\n",
            "Epoch 59/100\n",
            "484/484 [==============================] - 12s 24ms/step - loss: 1.9506 - accuracy: 0.6452\n",
            "Epoch 60/100\n",
            "484/484 [==============================] - 12s 24ms/step - loss: 1.9057 - accuracy: 0.6602\n",
            "Epoch 61/100\n",
            "484/484 [==============================] - 12s 24ms/step - loss: 1.8849 - accuracy: 0.6590\n",
            "Epoch 62/100\n",
            "484/484 [==============================] - 12s 24ms/step - loss: 1.8391 - accuracy: 0.6718\n",
            "Epoch 63/100\n",
            "484/484 [==============================] - 12s 24ms/step - loss: 1.8089 - accuracy: 0.6756\n",
            "Epoch 64/100\n",
            "484/484 [==============================] - 12s 24ms/step - loss: 1.7722 - accuracy: 0.6869\n",
            "Epoch 65/100\n",
            "484/484 [==============================] - 12s 24ms/step - loss: 1.7427 - accuracy: 0.6936\n",
            "Epoch 66/100\n",
            "484/484 [==============================] - 12s 24ms/step - loss: 1.7283 - accuracy: 0.6942\n",
            "Epoch 67/100\n",
            "484/484 [==============================] - 12s 24ms/step - loss: 1.7029 - accuracy: 0.6963\n",
            "Epoch 68/100\n",
            "484/484 [==============================] - 12s 24ms/step - loss: 1.6793 - accuracy: 0.7044\n",
            "Epoch 69/100\n",
            "484/484 [==============================] - 12s 25ms/step - loss: 1.6335 - accuracy: 0.7130\n",
            "Epoch 70/100\n",
            "484/484 [==============================] - 12s 24ms/step - loss: 1.6123 - accuracy: 0.7154\n",
            "Epoch 71/100\n",
            "484/484 [==============================] - 12s 24ms/step - loss: 1.5886 - accuracy: 0.7250\n",
            "Epoch 72/100\n",
            "484/484 [==============================] - 12s 24ms/step - loss: 1.5621 - accuracy: 0.7289\n",
            "Epoch 73/100\n",
            "484/484 [==============================] - 12s 24ms/step - loss: 1.5450 - accuracy: 0.7329\n",
            "Epoch 74/100\n",
            "484/484 [==============================] - 11s 24ms/step - loss: 1.5265 - accuracy: 0.7348\n",
            "Epoch 75/100\n",
            "484/484 [==============================] - 12s 24ms/step - loss: 1.5122 - accuracy: 0.7388\n",
            "Epoch 76/100\n",
            "484/484 [==============================] - 12s 24ms/step - loss: 1.4901 - accuracy: 0.7416\n",
            "Epoch 77/100\n",
            "484/484 [==============================] - 12s 24ms/step - loss: 1.4662 - accuracy: 0.7489\n",
            "Epoch 78/100\n",
            "484/484 [==============================] - 12s 24ms/step - loss: 1.4480 - accuracy: 0.7520\n",
            "Epoch 79/100\n",
            "484/484 [==============================] - 12s 24ms/step - loss: 1.4142 - accuracy: 0.7533\n",
            "Epoch 80/100\n",
            "484/484 [==============================] - 12s 24ms/step - loss: 1.4073 - accuracy: 0.7576\n",
            "Epoch 81/100\n",
            "484/484 [==============================] - 12s 24ms/step - loss: 1.3877 - accuracy: 0.7630\n",
            "Epoch 82/100\n",
            "484/484 [==============================] - 12s 24ms/step - loss: 1.3607 - accuracy: 0.7646\n",
            "Epoch 83/100\n",
            "484/484 [==============================] - 12s 24ms/step - loss: 1.3601 - accuracy: 0.7646\n",
            "Epoch 84/100\n",
            "484/484 [==============================] - 12s 24ms/step - loss: 1.3481 - accuracy: 0.7644\n",
            "Epoch 85/100\n",
            "484/484 [==============================] - 12s 24ms/step - loss: 1.3391 - accuracy: 0.7698\n",
            "Epoch 86/100\n",
            "484/484 [==============================] - 12s 24ms/step - loss: 1.3190 - accuracy: 0.7725\n",
            "Epoch 87/100\n",
            "484/484 [==============================] - 12s 24ms/step - loss: 1.2930 - accuracy: 0.7774\n",
            "Epoch 88/100\n",
            "484/484 [==============================] - 12s 24ms/step - loss: 1.2721 - accuracy: 0.7803\n",
            "Epoch 89/100\n",
            "484/484 [==============================] - 12s 24ms/step - loss: 1.2665 - accuracy: 0.7832\n",
            "Epoch 90/100\n",
            "484/484 [==============================] - 12s 24ms/step - loss: 1.2516 - accuracy: 0.7846\n",
            "Epoch 91/100\n",
            "484/484 [==============================] - 12s 24ms/step - loss: 1.2472 - accuracy: 0.7847\n",
            "Epoch 92/100\n",
            "484/484 [==============================] - 12s 24ms/step - loss: 1.2230 - accuracy: 0.7908\n",
            "Epoch 93/100\n",
            "484/484 [==============================] - 12s 24ms/step - loss: 1.2202 - accuracy: 0.7909\n",
            "Epoch 94/100\n",
            "484/484 [==============================] - 12s 24ms/step - loss: 1.2251 - accuracy: 0.7863\n",
            "Epoch 95/100\n",
            "484/484 [==============================] - 12s 24ms/step - loss: 1.2058 - accuracy: 0.7881\n",
            "Epoch 96/100\n",
            "484/484 [==============================] - 12s 24ms/step - loss: 1.1851 - accuracy: 0.7973\n",
            "Epoch 97/100\n",
            "484/484 [==============================] - 12s 24ms/step - loss: 1.1718 - accuracy: 0.7957\n",
            "Epoch 98/100\n",
            "484/484 [==============================] - 12s 24ms/step - loss: 1.1802 - accuracy: 0.7921\n",
            "Epoch 99/100\n",
            "484/484 [==============================] - 12s 24ms/step - loss: 1.1525 - accuracy: 0.7994\n",
            "Epoch 100/100\n",
            "484/484 [==============================] - 12s 24ms/step - loss: 1.1478 - accuracy: 0.7969\n"
          ]
        }
      ]
    },
    {
      "cell_type": "code",
      "metadata": {
        "id": "1fXTEO3GJ282",
        "outputId": "89ab615c-b848-464a-bb8e-ae5146d32ad6",
        "colab": {
          "base_uri": "https://localhost:8080/",
          "height": 545
        }
      },
      "source": [
        "import matplotlib.pyplot as plt\n",
        "acc = history.history['accuracy']\n",
        "loss = history.history['loss']\n",
        "\n",
        "epochs = range(len(acc))\n",
        "\n",
        "plt.plot(epochs, acc, 'b', label='Training accuracy')\n",
        "plt.title('Training accuracy')\n",
        "\n",
        "plt.figure()\n",
        "\n",
        "plt.plot(epochs, loss, 'b', label='Training Loss')\n",
        "plt.title('Training loss')\n",
        "plt.legend()\n",
        "\n",
        "plt.show()"
      ],
      "execution_count": 25,
      "outputs": [
        {
          "output_type": "display_data",
          "data": {
            "image/png": "[encoded data removed]",
            "text/plain": [
              "<Figure size 432x288 with 1 Axes>"
            ]
          },
          "metadata": {
            "needs_background": "light"
          }
        },
        {
          "output_type": "display_data",
          "data": {
            "image/png": "[encoded data removed]",
            "text/plain": [
              "<Figure size 432x288 with 1 Axes>"
            ]
          },
          "metadata": {
            "needs_background": "light"
          }
        }
      ]
    },
    {
      "cell_type": "code",
      "metadata": {
        "id": "6Vc6PHgxa6Hm",
        "outputId": "505201d6-9499-4ad0-f5a4-aac72e8c1239",
        "colab": {
          "base_uri": "https://localhost:8080/"
        }
      },
      "source": [
        "seed_text = \"Love is found where hope is scarce\"\n",
        "next_words = 100\n",
        "  \n",
        "for _ in range(next_words):\n",
        "\ttoken_list = tokenizer.texts_to_sequences([seed_text])[0]\n",
        "\ttoken_list = pad_sequences([token_list], maxlen=max_sequence_len-1, padding='pre')\n",
        " \n",
        "\tpredict_x=model.predict(token_list) # note that the model.predict_class is removed in tf==2.6\n",
        "\tpredicted=np.argmax(predict_x,axis=1)\n",
        " \n",
        "\toutput_word = \"\"\n",
        "\tfor word, index in tokenizer.word_index.items():\n",
        "\t\tif index == predicted:\n",
        "\t\t\toutput_word = word\n",
        "\t\t\tbreak\n",
        "\tseed_text += \" \" + output_word\n",
        "print(seed_text)"
      ],
      "execution_count": 32,
      "outputs": [
        {
          "output_type": "stream",
          "name": "stdout",
          "text": [
            "Love is found where hope is scarce truth and love to live and much now seen hate hate new ' prove last new directed spent living sun ' spent o'er lend memory age spent express'd staineth near latch shine express'd ' decays live hence ' grew long rolling rolling rolling ' forbid write rhyme days spent lie of to good date at your desire be view bear light dyed quite express'd staineth lend invention light light lend days outworn weeks worn staineth staineth staineth hate on dead ' spent spent dearer cause face aside remain ' shows now give give take all best seen weeds age respect\n"
          ]
        }
      ]
    }
  ]
}