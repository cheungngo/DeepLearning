{
  "nbformat": 4,
  "nbformat_minor": 0,
  "metadata": {
    "accelerator": "GPU",
    "colab": {
      "name": "C3_W3_Assignment.ipynb",
      "provenance": [],
      "toc_visible": true
    },
    "kernelspec": {
      "display_name": "Python 3",
      "language": "python",
      "name": "python3"
    },
    "language_info": {
      "codemirror_mode": {
        "name": "ipython",
        "version": 3
      },
      "file_extension": ".py",
      "mimetype": "text/x-python",
      "name": "python",
      "nbconvert_exporter": "python",
      "pygments_lexer": "ipython3",
      "version": "3.8.5"
    }
  },
  "cells": [
    {
      "cell_type": "code",
      "metadata": {
        "id": "zX4Kg8DUTKWO"
      },
      "source": [
        "#@title Licensed under the Apache License, Version 2.0 (the \"License\");\n",
        "# you may not use this file except in compliance with the License.\n",
        "# You may obtain a copy of the License at\n",
        "#\n",
        "# https://www.apache.org/licenses/LICENSE-2.0\n",
        "#\n",
        "# Unless required by applicable law or agreed to in writing, software\n",
        "# distributed under the License is distributed on an \"AS IS\" BASIS,\n",
        "# WITHOUT WARRANTIES OR CONDITIONS OF ANY KIND, either express or implied.\n",
        "# See the License for the specific language governing permissions and\n",
        "# limitations under the License."
      ],
      "execution_count": null,
      "outputs": []
    },
    {
      "cell_type": "markdown",
      "metadata": {
        "id": "gnU1TV9kV5f9"
      },
      "source": [
        "**Note:** This notebook can run using TensorFlow 2.5.0"
      ]
    },
    {
      "cell_type": "code",
      "metadata": {
        "id": "qTZDRvo5V5f9"
      },
      "source": [
        "#!pip install tensorflow==2.5.0"
      ],
      "execution_count": null,
      "outputs": []
    },
    {
      "cell_type": "code",
      "metadata": {
        "id": "hmA6EzkQJ5jt"
      },
      "source": [
        "import json\n",
        "import tensorflow as tf\n",
        "import csv\n",
        "import random\n",
        "import numpy as np\n",
        "\n",
        "from tensorflow.keras.preprocessing.text import Tokenizer\n",
        "from tensorflow.keras.preprocessing.sequence import pad_sequences\n",
        "from tensorflow.keras.utils import to_categorical\n",
        "from tensorflow.keras import regularizers\n",
        "\n",
        "\n",
        "embedding_dim = 100\n",
        "max_length = 16\n",
        "trunc_type='post'\n",
        "padding_type='post'\n",
        "oov_tok = \"<OOV>\"\n",
        "training_size=16000 \n",
        "#Your dataset size here. Experiment using smaller values (i.e. 16000), but don't forget to train on at least 160000 to see the best effects\n",
        "test_portion=.1\n",
        "\n",
        "corpus = []\n"
      ],
      "execution_count": 2,
      "outputs": []
    },
    {
      "cell_type": "code",
      "metadata": {
        "id": "bM0l_dORKqE0",
        "outputId": "128519c9-e3f1-424a-a32d-ba331aa71c06",
        "colab": {
          "base_uri": "https://localhost:8080/"
        }
      },
      "source": [
        "# Note that I cleaned the Stanford dataset to remove LATIN1 encoding to make it easier for Python CSV reader\n",
        "# You can do that yourself with:\n",
        "# iconv -f LATIN1 -t UTF8 training.1600000.processed.noemoticon.csv -o training_cleaned.csv\n",
        "\n",
        "# training_cleaned.csv\n",
        "!gdown --id 1wd8KaeCSHxt-nEpMeuHFSNWrDp8joUXJ\n",
        "\n",
        "num_sentences = 0\n",
        "\n",
        "corpus = []\n",
        "\n",
        "with open(\"./training_cleaned.csv\") as csvfile:\n",
        "    reader = csv.reader(csvfile, delimiter=',')\n",
        "    for row in reader:\n",
        "        list_item=[]\n",
        "        \n",
        "        ### START CODE HERE\n",
        "        list_item.append(row[5])\n",
        "        this_label=row[0]\n",
        "        if this_label=='0':\n",
        "            list_item.append(0)\n",
        "        else:\n",
        "            list_item.append(1)\n",
        "        ### END CODE HERE\n",
        "        \n",
        "        num_sentences = num_sentences + 1\n",
        "        corpus.append(list_item)"
      ],
      "execution_count": 46,
      "outputs": [
        {
          "output_type": "stream",
          "name": "stdout",
          "text": [
            "Downloading...\n",
            "From: https://drive.google.com/uc?id=1wd8KaeCSHxt-nEpMeuHFSNWrDp8joUXJ\n",
            "To: /content/training_cleaned.csv\n",
            "100% 239M/239M [00:01<00:00, 175MB/s]\n"
          ]
        }
      ]
    },
    {
      "cell_type": "code",
      "metadata": {
        "id": "3kxblBUjEUX-",
        "outputId": "39084283-e1fd-4c4c-e355-2eeaac3df38e",
        "colab": {
          "base_uri": "https://localhost:8080/"
        }
      },
      "source": [
        "print(num_sentences)\n",
        "print(len(corpus))\n",
        "print(corpus[1])\n",
        "\n",
        "# Expected Output:\n",
        "# 1600000\n",
        "# 1600000\n",
        "# [\"is upset that he can't update his Facebook by texting it... and might cry as a result  School today also. Blah!\", 0]"
      ],
      "execution_count": 47,
      "outputs": [
        {
          "output_type": "stream",
          "name": "stdout",
          "text": [
            "1600000\n",
            "1600000\n",
            "[\"is upset that he can't update his Facebook by texting it... and might cry as a result  School today also. Blah!\", 0]\n"
          ]
        }
      ]
    },
    {
      "cell_type": "code",
      "metadata": {
        "id": "ohOGz24lsNAD"
      },
      "source": [
        "sentences=[]\n",
        "labels=[]\n",
        "random.shuffle(corpus)\n",
        "for x in range(training_size):\n",
        "    sentences.append(corpus[x][0])\n",
        "    labels.append(corpus[x][1])\n",
        "\n",
        "\n",
        "tokenizer = Tokenizer()\n",
        "tokenizer.fit_on_texts(sentences)\n",
        "\n",
        "word_index = tokenizer.word_index\n",
        "vocab_size=len(word_index)\n",
        "\n",
        "sequences = tokenizer.texts_to_sequences(sentences)\n",
        "padded = pad_sequences(sequences, maxlen=max_length, padding=padding_type, truncating=trunc_type)\n",
        "\n",
        "split = int(test_portion * training_size)\n",
        "\n",
        "# all training / testing data should be numpy arrays\n",
        "test_sequences = np.asarray(padded[:split])\n",
        "training_sequences = np.asarray(padded[split:training_size])\n",
        "test_labels = np.asarray(labels[:split])\n",
        "training_labels = np.asarray(labels[split:training_size])"
      ],
      "execution_count": 54,
      "outputs": []
    },
    {
      "cell_type": "code",
      "metadata": {
        "id": "gIrtRem1En3N",
        "outputId": "0139539c-2509-4ac4-a023-53f5c10e8db2",
        "colab": {
          "base_uri": "https://localhost:8080/"
        }
      },
      "source": [
        "print(vocab_size)\n",
        "print(word_index['i'])\n",
        "# Expected Output\n",
        "# 138856\n",
        "# 1"
      ],
      "execution_count": 35,
      "outputs": [
        {
          "output_type": "stream",
          "name": "stdout",
          "text": [
            "24348\n",
            "1\n"
          ]
        }
      ]
    },
    {
      "cell_type": "code",
      "metadata": {
        "id": "C1zdgJkusRh0",
        "outputId": "b10ebb2b-bc99-462c-a4b0-61672201b5e2",
        "colab": {
          "base_uri": "https://localhost:8080/"
        }
      },
      "source": [
        "# Note this is the 100 dimension version of GloVe from Stanford\n",
        "\n",
        "# glove.6B.100d.txt\n",
        "!gdown --id 1W5vZy2etitAblLdFn8_DxnsQKzfFJ98g\n",
        "\n",
        "embeddings_index = {};\n",
        "with open('./glove.6B.100d.txt') as f:\n",
        "    for line in f:\n",
        "        values = line.split();\n",
        "        word = values[0];\n",
        "        coefs = np.asarray(values[1:], dtype='float32');\n",
        "        embeddings_index[word] = coefs;\n",
        "\n",
        "embeddings_matrix = np.zeros((vocab_size+1, embedding_dim));\n",
        "for word, i in word_index.items():\n",
        "    embedding_vector = embeddings_index.get(word);\n",
        "    if embedding_vector is not None:\n",
        "        embeddings_matrix[i] = embedding_vector;"
      ],
      "execution_count": 55,
      "outputs": [
        {
          "output_type": "stream",
          "name": "stdout",
          "text": [
            "Downloading...\n",
            "From: https://drive.google.com/uc?id=1W5vZy2etitAblLdFn8_DxnsQKzfFJ98g\n",
            "To: /content/glove.6B.100d.txt\n",
            "100% 347M/347M [00:02<00:00, 174MB/s]\n"
          ]
        }
      ]
    },
    {
      "cell_type": "code",
      "metadata": {
        "id": "71NLk_lpFLNt",
        "outputId": "f3edfa93-3405-43c6-8bc0-2f56786b91f2",
        "colab": {
          "base_uri": "https://localhost:8080/"
        }
      },
      "source": [
        "print(len(embeddings_matrix))\n",
        "# Expected Output\n",
        "# 138857"
      ],
      "execution_count": 37,
      "outputs": [
        {
          "output_type": "stream",
          "name": "stdout",
          "text": [
            "24349\n"
          ]
        }
      ]
    },
    {
      "cell_type": "code",
      "metadata": {
        "id": "iKKvbuEBOGFz",
        "outputId": "a35b3a16-366e-42fb-c236-35b905571485",
        "colab": {
          "base_uri": "https://localhost:8080/"
        }
      },
      "source": [
        "model = tf.keras.Sequential([\n",
        "    tf.keras.layers.Embedding(vocab_size+1, embedding_dim, input_length=max_length, weights=[embeddings_matrix], trainable=False),\n",
        "    tf.keras.layers.Bidirectional(tf.keras.layers.LSTM(32)),\n",
        "    tf.keras.layers.Dense(24, activation = \"relu\"),\n",
        "    tf.keras.layers.Dense(1, activation = \"sigmoid\")\n",
        "    # YOUR CODE HERE - experiment with combining different types, such as convolutions and LSTMs\n",
        "])\n",
        "model.compile(loss = \"binary_crossentropy\",\n",
        "              metrics = [\"accuracy\"],\n",
        "              optimizer = \"adam\")\n",
        "model.summary()\n",
        "\n",
        "num_epochs = 50\n",
        "history = model.fit(training_sequences, training_labels, epochs=num_epochs, validation_data=(test_sequences, test_labels), verbose=2)\n",
        "\n",
        "print(\"Training Complete\")\n"
      ],
      "execution_count": 56,
      "outputs": [
        {
          "output_type": "stream",
          "name": "stdout",
          "text": [
            "Model: \"sequential_5\"\n",
            "_________________________________________________________________\n",
            " Layer (type)                Output Shape              Param #   \n",
            "=================================================================\n",
            " embedding_5 (Embedding)     (None, 16, 100)           2653400   \n",
            "                                                                 \n",
            " bidirectional_5 (Bidirectio  (None, 64)               34048     \n",
            " nal)                                                            \n",
            "                                                                 \n",
            " dense_10 (Dense)            (None, 24)                1560      \n",
            "                                                                 \n",
            " dense_11 (Dense)            (None, 1)                 25        \n",
            "                                                                 \n",
            "=================================================================\n",
            "Total params: 2,689,033\n",
            "Trainable params: 35,633\n",
            "Non-trainable params: 2,653,400\n",
            "_________________________________________________________________\n",
            "Epoch 1/50\n",
            "450/450 - 12s - loss: 0.6142 - accuracy: 0.6547 - val_loss: 0.5641 - val_accuracy: 0.6969 - 12s/epoch - 26ms/step\n",
            "Epoch 2/50\n",
            "450/450 - 4s - loss: 0.5485 - accuracy: 0.7179 - val_loss: 0.5398 - val_accuracy: 0.7212 - 4s/epoch - 9ms/step\n",
            "Epoch 3/50\n",
            "450/450 - 4s - loss: 0.5220 - accuracy: 0.7350 - val_loss: 0.5370 - val_accuracy: 0.7219 - 4s/epoch - 10ms/step\n",
            "Epoch 4/50\n",
            "450/450 - 4s - loss: 0.5010 - accuracy: 0.7536 - val_loss: 0.5286 - val_accuracy: 0.7200 - 4s/epoch - 10ms/step\n",
            "Epoch 5/50\n",
            "450/450 - 4s - loss: 0.4823 - accuracy: 0.7649 - val_loss: 0.5387 - val_accuracy: 0.7225 - 4s/epoch - 10ms/step\n",
            "Epoch 6/50\n",
            "450/450 - 4s - loss: 0.4585 - accuracy: 0.7788 - val_loss: 0.5346 - val_accuracy: 0.7262 - 4s/epoch - 9ms/step\n",
            "Epoch 7/50\n",
            "450/450 - 4s - loss: 0.4316 - accuracy: 0.7933 - val_loss: 0.5549 - val_accuracy: 0.7181 - 4s/epoch - 10ms/step\n",
            "Epoch 8/50\n",
            "450/450 - 4s - loss: 0.4068 - accuracy: 0.8110 - val_loss: 0.5588 - val_accuracy: 0.7325 - 4s/epoch - 9ms/step\n",
            "Epoch 9/50\n",
            "450/450 - 4s - loss: 0.3775 - accuracy: 0.8268 - val_loss: 0.6117 - val_accuracy: 0.7281 - 4s/epoch - 9ms/step\n",
            "Epoch 10/50\n",
            "450/450 - 4s - loss: 0.3520 - accuracy: 0.8409 - val_loss: 0.6054 - val_accuracy: 0.7306 - 4s/epoch - 10ms/step\n",
            "Epoch 11/50\n",
            "450/450 - 4s - loss: 0.3201 - accuracy: 0.8587 - val_loss: 0.6568 - val_accuracy: 0.7212 - 4s/epoch - 9ms/step\n",
            "Epoch 12/50\n",
            "450/450 - 5s - loss: 0.2941 - accuracy: 0.8728 - val_loss: 0.6884 - val_accuracy: 0.7287 - 5s/epoch - 10ms/step\n",
            "Epoch 13/50\n",
            "450/450 - 4s - loss: 0.2646 - accuracy: 0.8835 - val_loss: 0.7553 - val_accuracy: 0.7069 - 4s/epoch - 9ms/step\n",
            "Epoch 14/50\n",
            "450/450 - 4s - loss: 0.2377 - accuracy: 0.8985 - val_loss: 0.7907 - val_accuracy: 0.7069 - 4s/epoch - 9ms/step\n",
            "Epoch 15/50\n",
            "450/450 - 4s - loss: 0.2163 - accuracy: 0.9078 - val_loss: 0.8613 - val_accuracy: 0.7050 - 4s/epoch - 9ms/step\n",
            "Epoch 16/50\n",
            "450/450 - 5s - loss: 0.1903 - accuracy: 0.9195 - val_loss: 0.9230 - val_accuracy: 0.6944 - 5s/epoch - 11ms/step\n",
            "Epoch 17/50\n",
            "450/450 - 5s - loss: 0.1671 - accuracy: 0.9312 - val_loss: 1.0353 - val_accuracy: 0.7094 - 5s/epoch - 10ms/step\n",
            "Epoch 18/50\n",
            "450/450 - 4s - loss: 0.1516 - accuracy: 0.9357 - val_loss: 1.1067 - val_accuracy: 0.7050 - 4s/epoch - 10ms/step\n",
            "Epoch 19/50\n",
            "450/450 - 4s - loss: 0.1273 - accuracy: 0.9497 - val_loss: 1.2149 - val_accuracy: 0.7013 - 4s/epoch - 9ms/step\n",
            "Epoch 20/50\n",
            "450/450 - 4s - loss: 0.1197 - accuracy: 0.9519 - val_loss: 1.3490 - val_accuracy: 0.6850 - 4s/epoch - 10ms/step\n",
            "Epoch 21/50\n",
            "450/450 - 4s - loss: 0.0964 - accuracy: 0.9628 - val_loss: 1.3337 - val_accuracy: 0.6988 - 4s/epoch - 9ms/step\n",
            "Epoch 22/50\n",
            "450/450 - 4s - loss: 0.0895 - accuracy: 0.9658 - val_loss: 1.4908 - val_accuracy: 0.6981 - 4s/epoch - 10ms/step\n",
            "Epoch 23/50\n",
            "450/450 - 4s - loss: 0.0810 - accuracy: 0.9683 - val_loss: 1.5123 - val_accuracy: 0.6875 - 4s/epoch - 10ms/step\n",
            "Epoch 24/50\n",
            "450/450 - 4s - loss: 0.0706 - accuracy: 0.9726 - val_loss: 1.7487 - val_accuracy: 0.6906 - 4s/epoch - 9ms/step\n",
            "Epoch 25/50\n",
            "450/450 - 4s - loss: 0.0670 - accuracy: 0.9741 - val_loss: 1.6995 - val_accuracy: 0.7044 - 4s/epoch - 9ms/step\n",
            "Epoch 26/50\n",
            "450/450 - 4s - loss: 0.0586 - accuracy: 0.9778 - val_loss: 1.7849 - val_accuracy: 0.6944 - 4s/epoch - 9ms/step\n",
            "Epoch 27/50\n",
            "450/450 - 4s - loss: 0.0573 - accuracy: 0.9780 - val_loss: 1.8574 - val_accuracy: 0.6906 - 4s/epoch - 9ms/step\n",
            "Epoch 28/50\n",
            "450/450 - 4s - loss: 0.0444 - accuracy: 0.9839 - val_loss: 1.9331 - val_accuracy: 0.6862 - 4s/epoch - 9ms/step\n",
            "Epoch 29/50\n",
            "450/450 - 4s - loss: 0.0474 - accuracy: 0.9822 - val_loss: 1.9964 - val_accuracy: 0.6931 - 4s/epoch - 10ms/step\n",
            "Epoch 30/50\n",
            "450/450 - 4s - loss: 0.0495 - accuracy: 0.9810 - val_loss: 2.0301 - val_accuracy: 0.6994 - 4s/epoch - 9ms/step\n",
            "Epoch 31/50\n",
            "450/450 - 4s - loss: 0.0447 - accuracy: 0.9828 - val_loss: 2.1133 - val_accuracy: 0.6988 - 4s/epoch - 10ms/step\n",
            "Epoch 32/50\n",
            "450/450 - 4s - loss: 0.0327 - accuracy: 0.9872 - val_loss: 2.2123 - val_accuracy: 0.6875 - 4s/epoch - 9ms/step\n",
            "Epoch 33/50\n",
            "450/450 - 4s - loss: 0.0400 - accuracy: 0.9856 - val_loss: 2.1942 - val_accuracy: 0.6963 - 4s/epoch - 9ms/step\n",
            "Epoch 34/50\n",
            "450/450 - 4s - loss: 0.0398 - accuracy: 0.9841 - val_loss: 2.2068 - val_accuracy: 0.6781 - 4s/epoch - 10ms/step\n",
            "Epoch 35/50\n",
            "450/450 - 4s - loss: 0.0373 - accuracy: 0.9854 - val_loss: 2.4152 - val_accuracy: 0.6925 - 4s/epoch - 10ms/step\n",
            "Epoch 36/50\n",
            "450/450 - 4s - loss: 0.0355 - accuracy: 0.9869 - val_loss: 2.3958 - val_accuracy: 0.6850 - 4s/epoch - 9ms/step\n",
            "Epoch 37/50\n",
            "450/450 - 4s - loss: 0.0266 - accuracy: 0.9901 - val_loss: 2.3985 - val_accuracy: 0.6869 - 4s/epoch - 9ms/step\n",
            "Epoch 38/50\n",
            "450/450 - 4s - loss: 0.0229 - accuracy: 0.9920 - val_loss: 2.5001 - val_accuracy: 0.6925 - 4s/epoch - 9ms/step\n",
            "Epoch 39/50\n",
            "450/450 - 4s - loss: 0.0489 - accuracy: 0.9810 - val_loss: 2.5562 - val_accuracy: 0.6938 - 4s/epoch - 9ms/step\n",
            "Epoch 40/50\n",
            "450/450 - 4s - loss: 0.0261 - accuracy: 0.9903 - val_loss: 2.4935 - val_accuracy: 0.6844 - 4s/epoch - 9ms/step\n",
            "Epoch 41/50\n",
            "450/450 - 4s - loss: 0.0177 - accuracy: 0.9935 - val_loss: 2.6823 - val_accuracy: 0.6906 - 4s/epoch - 10ms/step\n",
            "Epoch 42/50\n",
            "450/450 - 4s - loss: 0.0273 - accuracy: 0.9885 - val_loss: 2.5852 - val_accuracy: 0.7038 - 4s/epoch - 9ms/step\n",
            "Epoch 43/50\n",
            "450/450 - 4s - loss: 0.0435 - accuracy: 0.9838 - val_loss: 2.6394 - val_accuracy: 0.6900 - 4s/epoch - 10ms/step\n",
            "Epoch 44/50\n",
            "450/450 - 4s - loss: 0.0238 - accuracy: 0.9907 - val_loss: 2.7921 - val_accuracy: 0.6881 - 4s/epoch - 9ms/step\n",
            "Epoch 45/50\n",
            "450/450 - 4s - loss: 0.0281 - accuracy: 0.9897 - val_loss: 2.7599 - val_accuracy: 0.6787 - 4s/epoch - 9ms/step\n",
            "Epoch 46/50\n",
            "450/450 - 4s - loss: 0.0271 - accuracy: 0.9894 - val_loss: 2.6996 - val_accuracy: 0.6956 - 4s/epoch - 9ms/step\n",
            "Epoch 47/50\n",
            "450/450 - 4s - loss: 0.0295 - accuracy: 0.9898 - val_loss: 2.7379 - val_accuracy: 0.6938 - 4s/epoch - 9ms/step\n",
            "Epoch 48/50\n",
            "450/450 - 5s - loss: 0.0253 - accuracy: 0.9904 - val_loss: 2.5713 - val_accuracy: 0.6862 - 5s/epoch - 11ms/step\n",
            "Epoch 49/50\n",
            "450/450 - 5s - loss: 0.0196 - accuracy: 0.9916 - val_loss: 2.7055 - val_accuracy: 0.7044 - 5s/epoch - 10ms/step\n",
            "Epoch 50/50\n",
            "450/450 - 4s - loss: 0.0352 - accuracy: 0.9870 - val_loss: 2.6355 - val_accuracy: 0.6994 - 4s/epoch - 10ms/step\n",
            "Training Complete\n"
          ]
        }
      ]
    },
    {
      "cell_type": "code",
      "metadata": {
        "id": "qxju4ItJKO8F",
        "outputId": "a1ee086c-f87b-49ee-c426-8886585e8677",
        "colab": {
          "base_uri": "https://localhost:8080/",
          "height": 607
        }
      },
      "source": [
        "import matplotlib.image  as mpimg\n",
        "import matplotlib.pyplot as plt\n",
        "\n",
        "#-----------------------------------------------------------\n",
        "# Retrieve a list of list results on training and test data\n",
        "# sets for each training epoch\n",
        "#-----------------------------------------------------------\n",
        "acc=history.history['accuracy']\n",
        "val_acc=history.history['val_accuracy']\n",
        "loss=history.history['loss']\n",
        "val_loss=history.history['val_loss']\n",
        "\n",
        "epochs=range(len(acc)) # Get number of epochs\n",
        "\n",
        "#------------------------------------------------\n",
        "# Plot training and validation accuracy per epoch\n",
        "#------------------------------------------------\n",
        "plt.plot(epochs, acc, 'r')\n",
        "plt.plot(epochs, val_acc, 'b')\n",
        "plt.title('Training and validation accuracy')\n",
        "plt.xlabel(\"Epochs\")\n",
        "plt.ylabel(\"Accuracy\")\n",
        "plt.legend([\"Accuracy\", \"Validation Accuracy\"])\n",
        "\n",
        "plt.figure()\n",
        "\n",
        "#------------------------------------------------\n",
        "# Plot training and validation loss per epoch\n",
        "#------------------------------------------------\n",
        "plt.plot(epochs, loss, 'r')\n",
        "plt.plot(epochs, val_loss, 'b')\n",
        "plt.title('Training and validation loss')\n",
        "plt.xlabel(\"Epochs\")\n",
        "plt.ylabel(\"Loss\")\n",
        "plt.legend([\"Loss\", \"Validation Loss\"])\n",
        "\n",
        "plt.figure()\n",
        "\n",
        "\n",
        "# Expected Output\n",
        "# A chart where the validation loss does not increase sharply!"
      ],
      "execution_count": 57,
      "outputs": [
        {
          "output_type": "execute_result",
          "data": {
            "text/plain": [
              "<Figure size 432x288 with 0 Axes>"
            ]
          },
          "metadata": {},
          "execution_count": 57
        },
        {
          "output_type": "display_data",
          "data": {
            "image/png": "[encoded data removed]",
            "text/plain": [
              "<Figure size 432x288 with 1 Axes>"
            ]
          },
          "metadata": {
            "needs_background": "light"
          }
        },
        {
          "output_type": "display_data",
          "data": {
            "image/png": "[encoded data removed]",
            "text/plain": [
              "<Figure size 432x288 with 1 Axes>"
            ]
          },
          "metadata": {
            "needs_background": "light"
          }
        },
        {
          "output_type": "display_data",
          "data": {
            "text/plain": [
              "<Figure size 432x288 with 0 Axes>"
            ]
          },
          "metadata": {}
        }
      ]
    }
  ]
}