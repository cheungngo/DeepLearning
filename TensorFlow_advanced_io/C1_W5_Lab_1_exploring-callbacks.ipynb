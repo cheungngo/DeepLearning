{
 "cells": [
  {
   "cell_type": "markdown",
   "metadata": {
    "colab_type": "text",
    "id": "view-in-github"
   },
   "source": [
    "<a href=\"https://colab.research.google.com/github/https-deeplearning-ai/tensorflow-3-public/blob/main/Course%201%20-%20Custom%20Models%2C%20Layers%20and%20Loss%20Functions/Week%205%20-%20Callbacks/C1_W5_Lab_1_exploring-callbacks.ipynb\" target=\"_parent\"><img src=\"https://colab.research.google.com/assets/colab-badge.svg\" alt=\"Open In Colab\"/></a>"
   ]
  },
  {
   "cell_type": "markdown",
   "metadata": {
    "colab_type": "text",
    "id": "0c_TYhQOUe1j"
   },
   "source": [
    "# Ungraded Lab: Introduction to Keras callbacks\n",
    "\n",
    "In Keras, `Callback` is a Python class meant to be subclassed to provide specific functionality, with a set of methods called at various stages of training (including batch/epoch start and ends), testing, and predicting. Callbacks are useful to get a view on internal states and statistics of the model during training. The methods of the callbacks can  be called at different stages of training/evaluating/inference. Keras has available [callbacks](https://keras.io/api/callbacks/) and we'll show how you can use it in the following sections. Please click the **Open in Colab** badge above to complete this exercise in Colab. This will allow you to take advantage of the free GPU runtime (for faster training) and compatibility with all the packages needed in this notebook."
   ]
  },
  {
   "cell_type": "markdown",
   "metadata": {
    "colab_type": "text",
    "id": "Uyl69EyRQx-f"
   },
   "source": [
    "## Model methods that take callbacks\n",
    "Users can supply a list of callbacks to the following `tf.keras.Model` methods:\n",
    "* [`fit()`](https://www.tensorflow.org/versions/r2.0/api_docs/python/tf/keras/Model#fit), [`fit_generator()`](https://www.tensorflow.org/versions/r2.0/api_docs/python/tf/keras/Model#fit_generator)\n",
    "Trains the model for a fixed number of epochs (iterations over a dataset, or data yielded batch-by-batch by a Python generator).\n",
    "* [`evaluate()`](https://www.tensorflow.org/versions/r2.0/api_docs/python/tf/keras/Model#evaluate), [`evaluate_generator()`](https://www.tensorflow.org/versions/r2.0/api_docs/python/tf/keras/Model#evaluate_generator)\n",
    "Evaluates the model for given data or data generator. Outputs the loss and metric values from the evaluation.\n",
    "* [`predict()`](https://www.tensorflow.org/versions/r2.0/api_docs/python/tf/keras/Model#predict), [`predict_generator()`](https://www.tensorflow.org/versions/r2.0/api_docs/python/tf/keras/Model#predict_generator)\n",
    "Generates output predictions for the input data or data generator."
   ]
  },
  {
   "cell_type": "markdown",
   "metadata": {},
   "source": [
    "## Imports"
   ]
  },
  {
   "cell_type": "code",
   "execution_count": 13,
   "metadata": {
    "colab": {},
    "colab_type": "code",
    "id": "AlT1Kh3uA9lZ"
   },
   "outputs": [
    {
     "name": "stdout",
     "output_type": "stream",
     "text": [
      "The tensorboard extension is already loaded. To reload it, use:\n",
      "  %reload_ext tensorboard\n",
      "Version:  2.1.0\n"
     ]
    }
   ],
   "source": [
    "from __future__ import absolute_import, division, print_function, unicode_literals\n",
    "\n",
    "try:\n",
    "    # %tensorflow_version only exists in Colab.\n",
    "    %tensorflow_version 2.x\n",
    "except Exception:\n",
    "    pass\n",
    "\n",
    "import tensorflow as tf\n",
    "import tensorflow_datasets as tfds\n",
    "import matplotlib.pyplot as plt\n",
    "import io\n",
    "from PIL import Image\n",
    "\n",
    "from tensorflow.keras.callbacks import TensorBoard, EarlyStopping, LearningRateScheduler, ModelCheckpoint, CSVLogger, ReduceLROnPlateau\n",
    "%load_ext tensorboard\n",
    "\n",
    "import os\n",
    "import matplotlib.pylab as plt\n",
    "import numpy as np\n",
    "import math\n",
    "import datetime\n",
    "import pandas as pd\n",
    "\n",
    "print(\"Version: \", tf.__version__)\n",
    "tf.get_logger().setLevel('INFO')"
   ]
  },
  {
   "cell_type": "markdown",
   "metadata": {
    "colab_type": "text",
    "id": "HnSljqtsXKfb"
   },
   "source": [
    "# Examples of Keras callback applications\n",
    "The following section will guide you through creating simple [Callback](https://keras.io/api/callbacks/) applications."
   ]
  },
  {
   "cell_type": "code",
   "execution_count": 14,
   "metadata": {
    "colab": {},
    "colab_type": "code",
    "id": "spskRuxvCYQE"
   },
   "outputs": [],
   "source": [
    "# Download and prepare the horses or humans dataset\n",
    "\n",
    "# horses_or_humans 3.0.0 has already been downloaded for you\n",
    "path = \"./tensorflow_datasets\"\n",
    "splits, info = tfds.load('horses_or_humans', data_dir=path, as_supervised=True, with_info=True, split=['train[:80%]', 'train[80%:]', 'test'])\n",
    "\n",
    "(train_examples, validation_examples, test_examples) = splits\n",
    "\n",
    "num_examples = info.splits['train'].num_examples\n",
    "num_classes = info.features['label'].num_classes"
   ]
  },
  {
   "cell_type": "code",
   "execution_count": 15,
   "metadata": {
    "colab": {},
    "colab_type": "code",
    "id": "veIsubKTCZsN"
   },
   "outputs": [],
   "source": [
    "SIZE = 150 #@param {type:\"slider\", min:64, max:300, step:1}\n",
    "IMAGE_SIZE = (SIZE, SIZE)"
   ]
  },
  {
   "cell_type": "code",
   "execution_count": 16,
   "metadata": {
    "colab": {},
    "colab_type": "code",
    "id": "faajLlErCb1S"
   },
   "outputs": [],
   "source": [
    "def format_image(image, label):\n",
    "  image = tf.image.resize(image, IMAGE_SIZE) / 255.0\n",
    "  return  image, label"
   ]
  },
  {
   "cell_type": "code",
   "execution_count": 17,
   "metadata": {
    "colab": {},
    "colab_type": "code",
    "id": "AVXPuU12Cdka"
   },
   "outputs": [],
   "source": [
    "BATCH_SIZE = 32 #@param {type:\"integer\"}"
   ]
  },
  {
   "cell_type": "code",
   "execution_count": 18,
   "metadata": {
    "colab": {},
    "colab_type": "code",
    "id": "0lHDkFVaCe48"
   },
   "outputs": [],
   "source": [
    "train_batches = train_examples.shuffle(num_examples // 4).map(format_image).batch(BATCH_SIZE).prefetch(1)\n",
    "validation_batches = validation_examples.map(format_image).batch(BATCH_SIZE).prefetch(1)\n",
    "test_batches = test_examples.map(format_image).batch(1)"
   ]
  },
  {
   "cell_type": "code",
   "execution_count": 19,
   "metadata": {
    "colab": {},
    "colab_type": "code",
    "id": "DxsCqEIkCgUt"
   },
   "outputs": [
    {
     "data": {
      "text/plain": [
       "TensorShape([32, 150, 150, 3])"
      ]
     },
     "execution_count": 19,
     "metadata": {},
     "output_type": "execute_result"
    }
   ],
   "source": [
    "for image_batch, label_batch in train_batches.take(1):\n",
    "  pass\n",
    "\n",
    "image_batch.shape"
   ]
  },
  {
   "cell_type": "code",
   "execution_count": 20,
   "metadata": {
    "colab": {},
    "colab_type": "code",
    "id": "iDBpWvHXCh2A"
   },
   "outputs": [],
   "source": [
    "def build_model(dense_units, input_shape=IMAGE_SIZE + (3,)):\n",
    "  model = tf.keras.models.Sequential([\n",
    "      tf.keras.layers.Conv2D(16, (3, 3), activation='relu', input_shape=input_shape),\n",
    "      tf.keras.layers.MaxPooling2D(2, 2),\n",
    "      tf.keras.layers.Conv2D(32, (3, 3), activation='relu'),\n",
    "      tf.keras.layers.MaxPooling2D(2, 2),\n",
    "      tf.keras.layers.Conv2D(64, (3, 3), activation='relu'),\n",
    "      tf.keras.layers.MaxPooling2D(2, 2),\n",
    "      tf.keras.layers.Flatten(),\n",
    "      tf.keras.layers.Dense(dense_units, activation='relu'),\n",
    "      tf.keras.layers.Dense(2, activation='softmax')\n",
    "  ])\n",
    "  return model"
   ]
  },
  {
   "cell_type": "markdown",
   "metadata": {
    "colab_type": "text",
    "id": "0ZKGkjagENSw"
   },
   "source": [
    "## [TensorBoard](https://keras.io/api/callbacks/tensorboard/)\n",
    "\n",
    "Enable visualizations for TensorBoard."
   ]
  },
  {
   "cell_type": "code",
   "execution_count": 9,
   "metadata": {
    "colab": {},
    "colab_type": "code",
    "id": "CeiD2WVEHbex"
   },
   "outputs": [],
   "source": [
    "!rm -rf logs"
   ]
  },
  {
   "cell_type": "code",
   "execution_count": 21,
   "metadata": {
    "colab": {},
    "colab_type": "code",
    "id": "PpLwPLnAEOzv"
   },
   "outputs": [
    {
     "name": "stdout",
     "output_type": "stream",
     "text": [
      "Epoch 1/10\n",
      "26/26 [==============================] - 21s 823ms/step - loss: 0.6709 - accuracy: 0.5900 - val_loss: 0.6333 - val_accuracy: 0.6829\n",
      "Epoch 2/10\n",
      "26/26 [==============================] - 21s 807ms/step - loss: 0.6262 - accuracy: 0.6411 - val_loss: 0.5913 - val_accuracy: 0.7268\n",
      "Epoch 3/10\n",
      "26/26 [==============================] - 22s 847ms/step - loss: 0.5627 - accuracy: 0.7251 - val_loss: 0.5546 - val_accuracy: 0.7659\n",
      "Epoch 4/10\n",
      "26/26 [==============================] - 21s 813ms/step - loss: 0.5114 - accuracy: 0.7664 - val_loss: 0.5744 - val_accuracy: 0.6732\n",
      "Epoch 5/10\n",
      "26/26 [==============================] - 20s 780ms/step - loss: 0.4783 - accuracy: 0.7786 - val_loss: 0.4613 - val_accuracy: 0.8098\n",
      "Epoch 6/10\n",
      "26/26 [==============================] - 24s 911ms/step - loss: 0.4458 - accuracy: 0.7993 - val_loss: 0.4184 - val_accuracy: 0.8293\n",
      "Epoch 7/10\n",
      "26/26 [==============================] - 20s 759ms/step - loss: 0.3944 - accuracy: 0.8382 - val_loss: 0.3423 - val_accuracy: 0.8683\n",
      "Epoch 8/10\n",
      "26/26 [==============================] - 21s 791ms/step - loss: 0.3469 - accuracy: 0.8577 - val_loss: 0.3296 - val_accuracy: 0.8976\n",
      "Epoch 9/10\n",
      "26/26 [==============================] - 20s 773ms/step - loss: 0.3122 - accuracy: 0.8783 - val_loss: 0.3224 - val_accuracy: 0.8732\n",
      "Epoch 10/10\n",
      "26/26 [==============================] - 20s 769ms/step - loss: 0.2514 - accuracy: 0.9100 - val_loss: 0.2783 - val_accuracy: 0.8829\n"
     ]
    },
    {
     "data": {
      "text/plain": [
       "<tensorflow.python.keras.callbacks.History at 0x7ff949fe7590>"
      ]
     },
     "execution_count": 21,
     "metadata": {},
     "output_type": "execute_result"
    }
   ],
   "source": [
    "model = build_model(dense_units=256)\n",
    "model.compile(\n",
    "    optimizer='sgd',\n",
    "    loss='sparse_categorical_crossentropy', \n",
    "    metrics=['accuracy'])\n",
    "  \n",
    "logdir = os.path.join(\"logs\", datetime.datetime.now().strftime(\"%Y%m%d-%H%M%S\"))\n",
    "tensorboard_callback = tf.keras.callbacks.TensorBoard(logdir)\n",
    "\n",
    "model.fit(train_batches, \n",
    "          epochs=10, \n",
    "          validation_data=validation_batches, \n",
    "          callbacks=[tensorboard_callback])"
   ]
  },
  {
   "cell_type": "code",
   "execution_count": null,
   "metadata": {},
   "outputs": [],
   "source": [
    "%tensorboard --logdir logs"
   ]
  },
  {
   "cell_type": "markdown",
   "metadata": {
    "colab_type": "text",
    "id": "wv9H4Pc2Mfl7"
   },
   "source": [
    "## [Model Checkpoint](https://keras.io/api/callbacks/model_checkpoint/)\n",
    "\n",
    "Callback to save the Keras model or model weights at some frequency."
   ]
  },
  {
   "cell_type": "code",
   "execution_count": 22,
   "metadata": {
    "colab": {},
    "colab_type": "code",
    "id": "PYV4FJ8iMmDq"
   },
   "outputs": [
    {
     "name": "stdout",
     "output_type": "stream",
     "text": [
      "Epoch 1/5\n",
      "\n",
      "Epoch 00001: saving model to weights.01-0.69.h5\n",
      "26/26 - 22s - loss: 0.6830 - accuracy: 0.5584 - val_loss: 0.6873 - val_accuracy: 0.4390\n",
      "Epoch 2/5\n",
      "\n",
      "Epoch 00002: saving model to weights.02-0.68.h5\n",
      "26/26 - 21s - loss: 0.6600 - accuracy: 0.6314 - val_loss: 0.6816 - val_accuracy: 0.4537\n",
      "Epoch 3/5\n",
      "\n",
      "Epoch 00003: saving model to weights.03-0.61.h5\n",
      "26/26 - 20s - loss: 0.6298 - accuracy: 0.6971 - val_loss: 0.6129 - val_accuracy: 0.7561\n",
      "Epoch 4/5\n",
      "\n",
      "Epoch 00004: saving model to weights.04-0.57.h5\n",
      "26/26 - 20s - loss: 0.5759 - accuracy: 0.7640 - val_loss: 0.5650 - val_accuracy: 0.7561\n",
      "Epoch 5/5\n",
      "\n",
      "Epoch 00005: saving model to weights.05-0.48.h5\n",
      "26/26 - 21s - loss: 0.5090 - accuracy: 0.7652 - val_loss: 0.4798 - val_accuracy: 0.8146\n"
     ]
    },
    {
     "data": {
      "text/plain": [
       "<tensorflow.python.keras.callbacks.History at 0x7ff949ee2c50>"
      ]
     },
     "execution_count": 22,
     "metadata": {},
     "output_type": "execute_result"
    }
   ],
   "source": [
    "model = build_model(dense_units=256)\n",
    "model.compile(\n",
    "    optimizer='sgd',\n",
    "    loss='sparse_categorical_crossentropy', \n",
    "    metrics=['accuracy'])\n",
    "  \n",
    "model.fit(train_batches, \n",
    "          epochs=5, \n",
    "          validation_data=validation_batches, \n",
    "          verbose=2,\n",
    "          callbacks=[ModelCheckpoint('weights.{epoch:02d}-{val_loss:.2f}.h5', verbose=1),\n",
    "          ])"
   ]
  },
  {
   "cell_type": "code",
   "execution_count": 23,
   "metadata": {
    "colab": {},
    "colab_type": "code",
    "id": "oGvjQ8IlMmK6"
   },
   "outputs": [
    {
     "name": "stdout",
     "output_type": "stream",
     "text": [
      "\n",
      "Epoch 00001: saving model to saved_model\n",
      "WARNING:tensorflow:From /opt/conda/lib/python3.7/site-packages/tensorflow_core/python/ops/resource_variable_ops.py:1786: calling BaseResourceVariable.__init__ (from tensorflow.python.ops.resource_variable_ops) with constraint is deprecated and will be removed in a future version.\n",
      "Instructions for updating:\n",
      "If using Keras pass *_constraint arguments to layers.\n"
     ]
    },
    {
     "name": "stderr",
     "output_type": "stream",
     "text": [
      "WARNING:tensorflow:From /opt/conda/lib/python3.7/site-packages/tensorflow_core/python/ops/resource_variable_ops.py:1786: calling BaseResourceVariable.__init__ (from tensorflow.python.ops.resource_variable_ops) with constraint is deprecated and will be removed in a future version.\n",
      "Instructions for updating:\n",
      "If using Keras pass *_constraint arguments to layers.\n"
     ]
    },
    {
     "name": "stdout",
     "output_type": "stream",
     "text": [
      "INFO:tensorflow:Assets written to: saved_model/assets\n"
     ]
    },
    {
     "name": "stderr",
     "output_type": "stream",
     "text": [
      "INFO:tensorflow:Assets written to: saved_model/assets\n"
     ]
    },
    {
     "name": "stdout",
     "output_type": "stream",
     "text": [
      "26/26 - 25s - loss: 0.6773 - accuracy: 0.5949 - val_loss: 0.6321 - val_accuracy: 0.7707\n"
     ]
    },
    {
     "data": {
      "text/plain": [
       "<tensorflow.python.keras.callbacks.History at 0x7ff949d54bd0>"
      ]
     },
     "execution_count": 23,
     "metadata": {},
     "output_type": "execute_result"
    }
   ],
   "source": [
    "model = build_model(dense_units=256)\n",
    "model.compile(\n",
    "    optimizer='sgd',\n",
    "    loss='sparse_categorical_crossentropy', \n",
    "    metrics=['accuracy'])\n",
    "  \n",
    "model.fit(train_batches, \n",
    "          epochs=1, \n",
    "          validation_data=validation_batches, \n",
    "          verbose=2,\n",
    "          callbacks=[ModelCheckpoint('saved_model', verbose=1)\n",
    "          ])"
   ]
  },
  {
   "cell_type": "code",
   "execution_count": 24,
   "metadata": {
    "colab": {},
    "colab_type": "code",
    "id": "Y1ConwoB0EjD"
   },
   "outputs": [
    {
     "name": "stdout",
     "output_type": "stream",
     "text": [
      "Epoch 1/2\n",
      "\n",
      "Epoch 00001: saving model to model.h5\n",
      "26/26 - 20s - loss: 0.6835 - accuracy: 0.5596 - val_loss: 0.6410 - val_accuracy: 0.7415\n",
      "Epoch 2/2\n",
      "\n",
      "Epoch 00002: saving model to model.h5\n",
      "26/26 - 20s - loss: 0.6288 - accuracy: 0.6740 - val_loss: 0.6263 - val_accuracy: 0.6049\n"
     ]
    },
    {
     "data": {
      "text/plain": [
       "<tensorflow.python.keras.callbacks.History at 0x7ff949b52850>"
      ]
     },
     "execution_count": 24,
     "metadata": {},
     "output_type": "execute_result"
    }
   ],
   "source": [
    "model = build_model(dense_units=256)\n",
    "model.compile(\n",
    "    optimizer='sgd',\n",
    "    loss='sparse_categorical_crossentropy', \n",
    "    metrics=['accuracy'])\n",
    "  \n",
    "model.fit(train_batches, \n",
    "          epochs=2, \n",
    "          validation_data=validation_batches, \n",
    "          verbose=2,\n",
    "          callbacks=[ModelCheckpoint('model.h5', verbose=1)\n",
    "          ])"
   ]
  },
  {
   "cell_type": "markdown",
   "metadata": {
    "colab_type": "text",
    "id": "kptNF0--Lznv"
   },
   "source": [
    "## [Early stopping](https://keras.io/api/callbacks/early_stopping/)\n",
    "\n",
    "Stop training when a monitored metric has stopped improving."
   ]
  },
  {
   "cell_type": "code",
   "execution_count": 25,
   "metadata": {
    "colab": {},
    "colab_type": "code",
    "id": "KJOJTJYdCkdY"
   },
   "outputs": [
    {
     "name": "stdout",
     "output_type": "stream",
     "text": [
      "Epoch 1/50\n",
      "26/26 - 28s - loss: 0.6733 - accuracy: 0.5669 - val_loss: 0.6590 - val_accuracy: 0.6098\n",
      "Epoch 2/50\n",
      "26/26 - 20s - loss: 0.6337 - accuracy: 0.6655 - val_loss: 0.6181 - val_accuracy: 0.6927\n",
      "Epoch 3/50\n",
      "26/26 - 20s - loss: 0.5736 - accuracy: 0.7409 - val_loss: 0.5594 - val_accuracy: 0.7463\n",
      "Epoch 4/50\n",
      "26/26 - 20s - loss: 0.5367 - accuracy: 0.7409 - val_loss: 0.4795 - val_accuracy: 0.8341\n",
      "Epoch 5/50\n",
      "26/26 - 19s - loss: 0.4860 - accuracy: 0.7701 - val_loss: 0.4301 - val_accuracy: 0.8878\n",
      "Epoch 6/50\n",
      "26/26 - 20s - loss: 0.4097 - accuracy: 0.8200 - val_loss: 0.4479 - val_accuracy: 0.8146\n",
      "Epoch 7/50\n",
      "26/26 - 19s - loss: 0.3595 - accuracy: 0.8625 - val_loss: 0.2871 - val_accuracy: 0.9268\n",
      "Epoch 8/50\n",
      "26/26 - 20s - loss: 0.2944 - accuracy: 0.8966 - val_loss: 0.2328 - val_accuracy: 0.9268\n",
      "Epoch 9/50\n",
      "26/26 - 20s - loss: 0.2867 - accuracy: 0.8881 - val_loss: 0.1889 - val_accuracy: 0.9561\n",
      "Epoch 10/50\n",
      "26/26 - 20s - loss: 0.2093 - accuracy: 0.9282 - val_loss: 0.1458 - val_accuracy: 0.9659\n",
      "Epoch 11/50\n",
      "26/26 - 20s - loss: 0.1805 - accuracy: 0.9453 - val_loss: 0.1520 - val_accuracy: 0.9561\n",
      "Epoch 12/50\n",
      "26/26 - 21s - loss: 0.1280 - accuracy: 0.9732 - val_loss: 0.1269 - val_accuracy: 0.9610\n",
      "Epoch 13/50\n",
      "26/26 - 20s - loss: 0.1147 - accuracy: 0.9696 - val_loss: 0.0866 - val_accuracy: 0.9854\n",
      "Epoch 14/50\n",
      "26/26 - 20s - loss: 0.0853 - accuracy: 0.9842 - val_loss: 0.1034 - val_accuracy: 0.9610\n",
      "Epoch 15/50\n",
      "26/26 - 20s - loss: 0.0986 - accuracy: 0.9757 - val_loss: 0.0822 - val_accuracy: 0.9805\n",
      "Epoch 16/50\n",
      "Restoring model weights from the end of the best epoch.\n",
      "26/26 - 20s - loss: 0.0710 - accuracy: 0.9842 - val_loss: 0.0574 - val_accuracy: 0.9902\n",
      "Epoch 00016: early stopping\n"
     ]
    },
    {
     "data": {
      "text/plain": [
       "<tensorflow.python.keras.callbacks.History at 0x7ff949974b90>"
      ]
     },
     "execution_count": 25,
     "metadata": {},
     "output_type": "execute_result"
    }
   ],
   "source": [
    "model = build_model(dense_units=256)\n",
    "model.compile(\n",
    "    optimizer='sgd',\n",
    "    loss='sparse_categorical_crossentropy', \n",
    "    metrics=['accuracy'])\n",
    "  \n",
    "model.fit(train_batches, \n",
    "          epochs=50, \n",
    "          validation_data=validation_batches, \n",
    "          verbose=2,\n",
    "          callbacks=[EarlyStopping(\n",
    "              patience=3,\n",
    "              min_delta=0.05,\n",
    "              baseline=0.8,\n",
    "              mode='min',\n",
    "              monitor='val_loss',\n",
    "              restore_best_weights=True,\n",
    "              verbose=1)\n",
    "          ])"
   ]
  },
  {
   "cell_type": "markdown",
   "metadata": {
    "colab_type": "text",
    "id": "8mDzWUD4Pqq5"
   },
   "source": [
    "## [CSV Logger](https://keras.io/api/callbacks/csv_logger/)\n",
    "\n",
    "Callback that streams epoch results to a CSV file."
   ]
  },
  {
   "cell_type": "code",
   "execution_count": 26,
   "metadata": {
    "colab": {},
    "colab_type": "code",
    "id": "cffnMpmGPtMh"
   },
   "outputs": [
    {
     "name": "stdout",
     "output_type": "stream",
     "text": [
      "Epoch 1/5\n",
      "26/26 [==============================] - 21s 811ms/step - loss: 0.6614 - accuracy: 0.6058 - val_loss: 0.6295 - val_accuracy: 0.7366\n",
      "Epoch 2/5\n",
      "26/26 [==============================] - 19s 748ms/step - loss: 0.5880 - accuracy: 0.7226 - val_loss: 0.5533 - val_accuracy: 0.7805\n",
      "Epoch 3/5\n",
      "26/26 [==============================] - 19s 743ms/step - loss: 0.5188 - accuracy: 0.7652 - val_loss: 0.5926 - val_accuracy: 0.6293\n",
      "Epoch 4/5\n",
      "26/26 [==============================] - 19s 734ms/step - loss: 0.4569 - accuracy: 0.8041 - val_loss: 0.3884 - val_accuracy: 0.8390\n",
      "Epoch 5/5\n",
      "26/26 [==============================] - 20s 767ms/step - loss: 0.3996 - accuracy: 0.8358 - val_loss: 0.3364 - val_accuracy: 0.8732\n"
     ]
    },
    {
     "data": {
      "text/plain": [
       "<tensorflow.python.keras.callbacks.History at 0x7ff8a4624450>"
      ]
     },
     "execution_count": 26,
     "metadata": {},
     "output_type": "execute_result"
    }
   ],
   "source": [
    "model = build_model(dense_units=256)\n",
    "model.compile(\n",
    "    optimizer='sgd',\n",
    "    loss='sparse_categorical_crossentropy', \n",
    "    metrics=['accuracy'])\n",
    "  \n",
    "csv_file = 'training.csv'\n",
    "\n",
    "model.fit(train_batches, \n",
    "          epochs=5, \n",
    "          validation_data=validation_batches, \n",
    "          callbacks=[CSVLogger(csv_file)\n",
    "          ])"
   ]
  },
  {
   "cell_type": "code",
   "execution_count": 27,
   "metadata": {
    "colab": {},
    "colab_type": "code",
    "id": "B9tkYi03QV7R"
   },
   "outputs": [
    {
     "data": {
      "text/html": [
       "<div>\n",
       "<style scoped>\n",
       "    .dataframe tbody tr th:only-of-type {\n",
       "        vertical-align: middle;\n",
       "    }\n",
       "\n",
       "    .dataframe tbody tr th {\n",
       "        vertical-align: top;\n",
       "    }\n",
       "\n",
       "    .dataframe thead th {\n",
       "        text-align: right;\n",
       "    }\n",
       "</style>\n",
       "<table border=\"1\" class=\"dataframe\">\n",
       "  <thead>\n",
       "    <tr style=\"text-align: right;\">\n",
       "      <th></th>\n",
       "      <th>epoch</th>\n",
       "      <th>accuracy</th>\n",
       "      <th>loss</th>\n",
       "      <th>val_accuracy</th>\n",
       "      <th>val_loss</th>\n",
       "    </tr>\n",
       "  </thead>\n",
       "  <tbody>\n",
       "    <tr>\n",
       "      <th>0</th>\n",
       "      <td>0</td>\n",
       "      <td>0.605839</td>\n",
       "      <td>0.661793</td>\n",
       "      <td>0.736585</td>\n",
       "      <td>0.629456</td>\n",
       "    </tr>\n",
       "    <tr>\n",
       "      <th>1</th>\n",
       "      <td>1</td>\n",
       "      <td>0.722628</td>\n",
       "      <td>0.588885</td>\n",
       "      <td>0.780488</td>\n",
       "      <td>0.553266</td>\n",
       "    </tr>\n",
       "    <tr>\n",
       "      <th>2</th>\n",
       "      <td>2</td>\n",
       "      <td>0.765207</td>\n",
       "      <td>0.516392</td>\n",
       "      <td>0.629268</td>\n",
       "      <td>0.592605</td>\n",
       "    </tr>\n",
       "    <tr>\n",
       "      <th>3</th>\n",
       "      <td>3</td>\n",
       "      <td>0.804136</td>\n",
       "      <td>0.457945</td>\n",
       "      <td>0.839024</td>\n",
       "      <td>0.388378</td>\n",
       "    </tr>\n",
       "    <tr>\n",
       "      <th>4</th>\n",
       "      <td>4</td>\n",
       "      <td>0.835766</td>\n",
       "      <td>0.400521</td>\n",
       "      <td>0.873171</td>\n",
       "      <td>0.336426</td>\n",
       "    </tr>\n",
       "  </tbody>\n",
       "</table>\n",
       "</div>"
      ],
      "text/plain": [
       "   epoch  accuracy      loss  val_accuracy  val_loss\n",
       "0      0  0.605839  0.661793      0.736585  0.629456\n",
       "1      1  0.722628  0.588885      0.780488  0.553266\n",
       "2      2  0.765207  0.516392      0.629268  0.592605\n",
       "3      3  0.804136  0.457945      0.839024  0.388378\n",
       "4      4  0.835766  0.400521      0.873171  0.336426"
      ]
     },
     "execution_count": 27,
     "metadata": {},
     "output_type": "execute_result"
    }
   ],
   "source": [
    "pd.read_csv(csv_file).head()"
   ]
  },
  {
   "cell_type": "markdown",
   "metadata": {
    "colab_type": "text",
    "id": "Dt9C2Y9fRBKN"
   },
   "source": [
    "## [Learning Rate Scheduler](https://keras.io/api/callbacks/learning_rate_scheduler/)\n",
    "\n",
    "Updates the learning rate during training."
   ]
  },
  {
   "cell_type": "code",
   "execution_count": 28,
   "metadata": {
    "colab": {},
    "colab_type": "code",
    "id": "aJi-xY2VRC03"
   },
   "outputs": [
    {
     "name": "stdout",
     "output_type": "stream",
     "text": [
      "\n",
      "Epoch 00001: LearningRateScheduler reducing learning rate to 0.005.\n",
      "Epoch 1/5\n",
      "26/26 [==============================] - 21s 807ms/step - loss: 0.6850 - accuracy: 0.5341 - val_loss: 0.6799 - val_accuracy: 0.6976\n",
      "\n",
      "Epoch 00002: LearningRateScheduler reducing learning rate to 0.0025.\n",
      "Epoch 2/5\n",
      "26/26 [==============================] - 19s 745ms/step - loss: 0.6716 - accuracy: 0.6241 - val_loss: 0.6840 - val_accuracy: 0.4537\n",
      "\n",
      "Epoch 00003: LearningRateScheduler reducing learning rate to 0.00125.\n",
      "Epoch 3/5\n",
      "26/26 [==============================] - 19s 735ms/step - loss: 0.6659 - accuracy: 0.5499 - val_loss: 0.6800 - val_accuracy: 0.4585\n",
      "\n",
      "Epoch 00004: LearningRateScheduler reducing learning rate to 0.000625.\n",
      "Epoch 4/5\n",
      "26/26 [==============================] - 20s 757ms/step - loss: 0.6622 - accuracy: 0.5560 - val_loss: 0.6778 - val_accuracy: 0.4732\n",
      "\n",
      "Epoch 00005: LearningRateScheduler reducing learning rate to 0.0003125.\n",
      "Epoch 5/5\n",
      "26/26 [==============================] - 20s 769ms/step - loss: 0.6612 - accuracy: 0.5706 - val_loss: 0.6769 - val_accuracy: 0.4829\n"
     ]
    },
    {
     "data": {
      "text/plain": [
       "<tensorflow.python.keras.callbacks.History at 0x7ff94988cd10>"
      ]
     },
     "execution_count": 28,
     "metadata": {},
     "output_type": "execute_result"
    }
   ],
   "source": [
    "model = build_model(dense_units=256)\n",
    "model.compile(\n",
    "    optimizer='sgd',\n",
    "    loss='sparse_categorical_crossentropy', \n",
    "    metrics=['accuracy'])\n",
    "  \n",
    "def step_decay(epoch):\n",
    "\tinitial_lr = 0.01\n",
    "\tdrop = 0.5\n",
    "\tepochs_drop = 1\n",
    "\tlr = initial_lr * math.pow(drop, math.floor((1+epoch)/epochs_drop))\n",
    "\treturn lr\n",
    "\n",
    "model.fit(train_batches, \n",
    "          epochs=5, \n",
    "          validation_data=validation_batches, \n",
    "          callbacks=[LearningRateScheduler(step_decay, verbose=1),\n",
    "                    TensorBoard(log_dir='./log_dir')])"
   ]
  },
  {
   "cell_type": "code",
   "execution_count": null,
   "metadata": {
    "colab": {},
    "colab_type": "code",
    "id": "M2S4n8nrbV91"
   },
   "outputs": [],
   "source": [
    "%tensorboard --logdir log_dir"
   ]
  },
  {
   "cell_type": "markdown",
   "metadata": {
    "colab_type": "text",
    "id": "y0wcuQyJE_UK"
   },
   "source": [
    "## [ReduceLROnPlateau](https://keras.io/api/callbacks/reduce_lr_on_plateau/)\n",
    "\n",
    "Reduce learning rate when a metric has stopped improving."
   ]
  },
  {
   "cell_type": "code",
   "execution_count": 29,
   "metadata": {
    "colab": {},
    "colab_type": "code",
    "id": "4naxZ-eCFB27"
   },
   "outputs": [
    {
     "name": "stdout",
     "output_type": "stream",
     "text": [
      "Epoch 1/50\n",
      "26/26 [==============================] - 20s 780ms/step - loss: 0.6818 - accuracy: 0.5414 - val_loss: 0.6895 - val_accuracy: 0.4341\n",
      "Epoch 2/50\n",
      "26/26 [==============================] - 20s 765ms/step - loss: 0.6659 - accuracy: 0.5499 - val_loss: 0.6734 - val_accuracy: 0.4878\n",
      "Epoch 3/50\n",
      "26/26 [==============================] - 20s 765ms/step - loss: 0.6472 - accuracy: 0.6460 - val_loss: 0.6544 - val_accuracy: 0.5707\n",
      "Epoch 4/50\n",
      "26/26 [==============================] - 19s 735ms/step - loss: 0.6196 - accuracy: 0.7372 - val_loss: 0.6189 - val_accuracy: 0.6878\n",
      "Epoch 5/50\n",
      "26/26 [==============================] - 20s 777ms/step - loss: 0.5790 - accuracy: 0.7798 - val_loss: 0.5800 - val_accuracy: 0.7024\n",
      "Epoch 6/50\n",
      "26/26 [==============================] - 19s 746ms/step - loss: 0.5173 - accuracy: 0.8200 - val_loss: 0.4938 - val_accuracy: 0.8293\n",
      "Epoch 7/50\n",
      "26/26 [==============================] - 20s 771ms/step - loss: 0.4275 - accuracy: 0.8759 - val_loss: 0.4421 - val_accuracy: 0.7902\n",
      "Epoch 8/50\n",
      "26/26 [==============================] - 19s 741ms/step - loss: 0.3322 - accuracy: 0.9015 - val_loss: 0.2749 - val_accuracy: 0.9366\n",
      "Epoch 9/50\n",
      "26/26 [==============================] - 20s 765ms/step - loss: 0.2662 - accuracy: 0.9282 - val_loss: 0.2368 - val_accuracy: 0.9317\n",
      "Epoch 10/50\n",
      "26/26 [==============================] - 19s 735ms/step - loss: 0.2079 - accuracy: 0.9355 - val_loss: 0.1864 - val_accuracy: 0.9317\n",
      "Epoch 11/50\n",
      "26/26 [==============================] - 19s 742ms/step - loss: 0.1722 - accuracy: 0.9489 - val_loss: 0.1423 - val_accuracy: 0.9610\n",
      "Epoch 12/50\n",
      "26/26 [==============================] - 19s 742ms/step - loss: 0.1452 - accuracy: 0.9574 - val_loss: 0.1158 - val_accuracy: 0.9805\n",
      "Epoch 13/50\n",
      "26/26 [==============================] - 19s 750ms/step - loss: 0.1227 - accuracy: 0.9611 - val_loss: 0.1080 - val_accuracy: 0.9707\n",
      "Epoch 14/50\n",
      "26/26 [==============================] - 19s 746ms/step - loss: 0.1150 - accuracy: 0.9623 - val_loss: 0.0910 - val_accuracy: 0.9854\n",
      "Epoch 15/50\n",
      "26/26 [==============================] - 19s 750ms/step - loss: 0.1037 - accuracy: 0.9672 - val_loss: 0.0857 - val_accuracy: 0.9805\n",
      "Epoch 16/50\n",
      "26/26 [==============================] - 20s 754ms/step - loss: 0.0922 - accuracy: 0.9757 - val_loss: 0.0766 - val_accuracy: 0.9805\n",
      "Epoch 17/50\n",
      "26/26 [==============================] - 20s 773ms/step - loss: 0.0790 - accuracy: 0.9769 - val_loss: 0.0699 - val_accuracy: 0.9805\n",
      "Epoch 18/50\n",
      "26/26 [==============================] - 20s 750ms/step - loss: 0.0779 - accuracy: 0.9793 - val_loss: 0.0681 - val_accuracy: 0.9805\n",
      "Epoch 19/50\n",
      "26/26 [==============================] - 20s 785ms/step - loss: 0.0747 - accuracy: 0.9757 - val_loss: 0.0676 - val_accuracy: 0.9854\n",
      "Epoch 20/50\n",
      "26/26 [==============================] - 20s 753ms/step - loss: 0.0638 - accuracy: 0.9818 - val_loss: 0.0656 - val_accuracy: 0.9854\n",
      "Epoch 21/50\n",
      "26/26 [==============================] - 20s 773ms/step - loss: 0.0602 - accuracy: 0.9805 - val_loss: 0.0532 - val_accuracy: 0.9805\n",
      "Epoch 22/50\n",
      "26/26 [==============================] - 22s 854ms/step - loss: 0.0623 - accuracy: 0.9793 - val_loss: 0.0521 - val_accuracy: 0.9854\n",
      "Epoch 23/50\n",
      "25/26 [===========================>..] - ETA: 0s - loss: 0.0496 - accuracy: 0.9862\n",
      "Epoch 00023: ReduceLROnPlateau reducing learning rate to 0.0019999999552965165.\n",
      "26/26 [==============================] - 20s 750ms/step - loss: 0.0505 - accuracy: 0.9854 - val_loss: 0.0545 - val_accuracy: 0.9756\n",
      "Epoch 24/50\n",
      "26/26 [==============================] - 20s 777ms/step - loss: 0.0429 - accuracy: 0.9903 - val_loss: 0.0474 - val_accuracy: 0.9854\n",
      "Epoch 25/50\n",
      "25/26 [===========================>..] - ETA: 0s - loss: 0.0400 - accuracy: 0.9912\n",
      "Epoch 00025: ReduceLROnPlateau reducing learning rate to 0.001.\n",
      "26/26 [==============================] - 20s 776ms/step - loss: 0.0429 - accuracy: 0.9903 - val_loss: 0.0475 - val_accuracy: 0.9854\n",
      "Epoch 26/50\n",
      "26/26 [==============================] - 20s 772ms/step - loss: 0.0408 - accuracy: 0.9903 - val_loss: 0.0471 - val_accuracy: 0.9854\n",
      "Epoch 27/50\n",
      "26/26 [==============================] - 21s 793ms/step - loss: 0.0405 - accuracy: 0.9891 - val_loss: 0.0469 - val_accuracy: 0.9854\n",
      "Epoch 28/50\n",
      "25/26 [===========================>..] - ETA: 0s - loss: 0.0409 - accuracy: 0.9900\n",
      "Epoch 00028: ReduceLROnPlateau reducing learning rate to 0.001.\n",
      "26/26 [==============================] - 21s 796ms/step - loss: 0.0399 - accuracy: 0.9903 - val_loss: 0.0468 - val_accuracy: 0.9854\n",
      "Epoch 29/50\n",
      "26/26 [==============================] - 19s 746ms/step - loss: 0.0398 - accuracy: 0.9891 - val_loss: 0.0465 - val_accuracy: 0.9854\n",
      "Epoch 30/50\n",
      "25/26 [===========================>..] - ETA: 0s - loss: 0.0398 - accuracy: 0.9900\n",
      "Epoch 00030: ReduceLROnPlateau reducing learning rate to 0.001.\n",
      "26/26 [==============================] - 20s 754ms/step - loss: 0.0392 - accuracy: 0.9903 - val_loss: 0.0465 - val_accuracy: 0.9854\n",
      "Epoch 31/50\n",
      "25/26 [===========================>..] - ETA: 0s - loss: 0.0364 - accuracy: 0.9912\n",
      "Epoch 00031: ReduceLROnPlateau reducing learning rate to 0.001.\n",
      "26/26 [==============================] - 20s 766ms/step - loss: 0.0407 - accuracy: 0.9891 - val_loss: 0.0468 - val_accuracy: 0.9854\n",
      "Epoch 32/50\n",
      "26/26 [==============================] - 22s 846ms/step - loss: 0.0391 - accuracy: 0.9903 - val_loss: 0.0461 - val_accuracy: 0.9854\n",
      "Epoch 33/50\n",
      "26/26 [==============================] - 19s 746ms/step - loss: 0.0387 - accuracy: 0.9891 - val_loss: 0.0458 - val_accuracy: 0.9854\n",
      "Epoch 34/50\n",
      "26/26 [==============================] - 21s 819ms/step - loss: 0.0381 - accuracy: 0.9903 - val_loss: 0.0455 - val_accuracy: 0.9854\n",
      "Epoch 35/50\n",
      "26/26 [==============================] - 19s 734ms/step - loss: 0.0379 - accuracy: 0.9903 - val_loss: 0.0454 - val_accuracy: 0.9854\n",
      "Epoch 36/50\n",
      "25/26 [===========================>..] - ETA: 0s - loss: 0.0360 - accuracy: 0.9912\n",
      "Epoch 00036: ReduceLROnPlateau reducing learning rate to 0.001.\n",
      "26/26 [==============================] - 19s 731ms/step - loss: 0.0380 - accuracy: 0.9903 - val_loss: 0.0454 - val_accuracy: 0.9854\n",
      "Epoch 37/50\n",
      "26/26 [==============================] - 20s 773ms/step - loss: 0.0373 - accuracy: 0.9903 - val_loss: 0.0451 - val_accuracy: 0.9854\n",
      "Epoch 38/50\n",
      "26/26 [==============================] - 19s 735ms/step - loss: 0.0370 - accuracy: 0.9903 - val_loss: 0.0449 - val_accuracy: 0.9854\n",
      "Epoch 39/50\n",
      "26/26 [==============================] - 20s 762ms/step - loss: 0.0365 - accuracy: 0.9903 - val_loss: 0.0447 - val_accuracy: 0.9854\n",
      "Epoch 40/50\n",
      "26/26 [==============================] - 19s 742ms/step - loss: 0.0363 - accuracy: 0.9903 - val_loss: 0.0444 - val_accuracy: 0.9854\n",
      "Epoch 41/50\n",
      "26/26 [==============================] - 20s 762ms/step - loss: 0.0363 - accuracy: 0.9903 - val_loss: 0.0442 - val_accuracy: 0.9854\n",
      "Epoch 42/50\n",
      "26/26 [==============================] - 19s 750ms/step - loss: 0.0358 - accuracy: 0.9903 - val_loss: 0.0440 - val_accuracy: 0.9854\n",
      "Epoch 43/50\n",
      "26/26 [==============================] - 19s 742ms/step - loss: 0.0356 - accuracy: 0.9903 - val_loss: 0.0438 - val_accuracy: 0.9854\n",
      "Epoch 44/50\n",
      "26/26 [==============================] - 20s 773ms/step - loss: 0.0351 - accuracy: 0.9903 - val_loss: 0.0436 - val_accuracy: 0.9854\n",
      "Epoch 45/50\n",
      "25/26 [===========================>..] - ETA: 0s - loss: 0.0343 - accuracy: 0.9912\n",
      "Epoch 00045: ReduceLROnPlateau reducing learning rate to 0.001.\n",
      "26/26 [==============================] - 19s 738ms/step - loss: 0.0353 - accuracy: 0.9903 - val_loss: 0.0435 - val_accuracy: 0.9854\n",
      "Epoch 46/50\n",
      "26/26 [==============================] - 19s 735ms/step - loss: 0.0356 - accuracy: 0.9915 - val_loss: 0.0434 - val_accuracy: 0.9854\n",
      "Epoch 47/50\n",
      "26/26 [==============================] - 20s 766ms/step - loss: 0.0344 - accuracy: 0.9915 - val_loss: 0.0432 - val_accuracy: 0.9854\n",
      "Epoch 48/50\n",
      "26/26 [==============================] - 19s 746ms/step - loss: 0.0339 - accuracy: 0.9915 - val_loss: 0.0429 - val_accuracy: 0.9854\n",
      "Epoch 49/50\n",
      "25/26 [===========================>..] - ETA: 0s - loss: 0.0339 - accuracy: 0.9900\n",
      "Epoch 00049: ReduceLROnPlateau reducing learning rate to 0.001.\n",
      "26/26 [==============================] - 20s 773ms/step - loss: 0.0342 - accuracy: 0.9903 - val_loss: 0.0431 - val_accuracy: 0.9805\n",
      "Epoch 50/50\n",
      "26/26 [==============================] - 19s 731ms/step - loss: 0.0337 - accuracy: 0.9903 - val_loss: 0.0428 - val_accuracy: 0.9854\n"
     ]
    },
    {
     "data": {
      "text/plain": [
       "<tensorflow.python.keras.callbacks.History at 0x7ff949715190>"
      ]
     },
     "execution_count": 29,
     "metadata": {},
     "output_type": "execute_result"
    }
   ],
   "source": [
    "model = build_model(dense_units=256)\n",
    "model.compile(\n",
    "    optimizer='sgd',\n",
    "    loss='sparse_categorical_crossentropy', \n",
    "    metrics=['accuracy'])\n",
    "  \n",
    "model.fit(train_batches, \n",
    "          epochs=50, \n",
    "          validation_data=validation_batches, \n",
    "          callbacks=[ReduceLROnPlateau(monitor='val_loss', \n",
    "                                       factor=0.2, verbose=1,\n",
    "                                       patience=1, min_lr=0.001),\n",
    "                     TensorBoard(log_dir='./log_dir')])"
   ]
  },
  {
   "cell_type": "code",
   "execution_count": null,
   "metadata": {
    "colab": {},
    "colab_type": "code",
    "id": "isfTWP4NYudk"
   },
   "outputs": [],
   "source": [
    "%tensorboard --logdir log_dir"
   ]
  }
 ],
 "metadata": {
  "colab": {
   "collapsed_sections": [],
   "include_colab_link": true,
   "name": "ExploringCallbacks.ipynb",
   "provenance": []
  },
  "kernelspec": {
   "display_name": "Python 3",
   "language": "python",
   "name": "python3"
  },
  "language_info": {
   "codemirror_mode": {
    "name": "ipython",
    "version": 3
   },
   "file_extension": ".py",
   "mimetype": "text/x-python",
   "name": "python",
   "nbconvert_exporter": "python",
   "pygments_lexer": "ipython3",
   "version": "3.7.6"
  }
 },
 "nbformat": 4,
 "nbformat_minor": 4
}
